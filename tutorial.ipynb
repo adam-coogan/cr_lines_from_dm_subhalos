{
 "cells": [
  {
   "cell_type": "code",
   "execution_count": 20,
   "metadata": {},
   "outputs": [],
   "source": [
    "import numpy as np\n",
    "\n",
    "from background_models import phi_g_egb_fermi, phi_e_bg_dampe\n",
    "from finite_clump_vectorized import rho_s_dampe, luminosity, phi_g, rho\n",
    "from finite_clump_vectorized import gamma_ray_extent, line_width_constraint, mass\n",
    "from finite_clump_vectorized import fermi_point_src_contraint\n",
    "from finite_clump_vectorized import anisotropy_integrated, line_width_constraint_chi2\n",
    "from utilities import fermi_psf, fermi_psf_solid_angle\n",
    "from utilities import fermi_pt_src_sens_0_0\n",
    "from utilities import rho_earth, e_high_excess"
   ]
  },
  {
   "cell_type": "markdown",
   "metadata": {},
   "source": [
    "## Example for NFW profile"
   ]
  },
  {
   "cell_type": "markdown",
   "metadata": {},
   "source": [
    "All functions are vectorized over $(d, r_s, \\gamma)$. They can also take a DM mass, which defaults to $1513.6~\\mathrm{GeV}$. $\\langle \\sigma v \\rangle$ is fixed to the usual value."
   ]
  },
  {
   "cell_type": "code",
   "execution_count": 2,
   "metadata": {},
   "outputs": [],
   "source": [
    "gamma_nfw = 0.5\n",
    "dist = np.logspace(-3, 0, 2)\n",
    "r_s = np.logspace(-3, 1, 2)\n",
    "dist_mg, r_s_mg = np.meshgrid(dist, r_s)"
   ]
  },
  {
   "cell_type": "markdown",
   "metadata": {},
   "source": [
    "Density normalization. **This is an input for everything below.**"
   ]
  },
  {
   "cell_type": "code",
   "execution_count": 3,
   "metadata": {
    "scrolled": true
   },
   "outputs": [
    {
     "name": "stderr",
     "output_type": "stream",
     "text": [
      "/Users/acoogan/.pyenv/versions/2.7.13/lib/python2.7/site-packages/scipy/integrate/quadpack.py:860: IntegrationWarning: The maximum number of subdivisions (50) has been achieved.\n",
      "  If increasing the limit yields no improvement it is advised to analyze \n",
      "  the integrand in order to determine the difficulties.  If the position of a \n",
      "  local difficulty can be determined (singularity, discontinuity) one will \n",
      "  probably gain from splitting up the interval and calling the integrator \n",
      "  on the subranges.  Perhaps a special-purpose integrator should be used.\n",
      "  **opt)\n",
      "/Users/acoogan/.pyenv/versions/2.7.13/lib/python2.7/site-packages/scipy/integrate/quadpack.py:860: IntegrationWarning: The algorithm does not converge.  Roundoff error is detected\n",
      "  in the extrapolation table.  It is assumed that the requested tolerance\n",
      "  cannot be achieved, and that the returned result (if full_output = 1) is \n",
      "  the best which can be obtained.\n",
      "  **opt)\n"
     ]
    }
   ],
   "source": [
    "rho_s_nfw = np.vectorize(rho_s_dampe)(dist_mg, r_s_mg, gamma_nfw, \"nfw\")"
   ]
  },
  {
   "cell_type": "markdown",
   "metadata": {},
   "source": [
    "Halo mass. Integrates out to $r_{\\mathrm{vir}}$ for NFW."
   ]
  },
  {
   "cell_type": "code",
   "execution_count": 4,
   "metadata": {},
   "outputs": [],
   "source": [
    "masses_nfw = mass(r_s_mg, rho_s_nfw, gamma_nfw, \"nfw\")"
   ]
  },
  {
   "cell_type": "markdown",
   "metadata": {},
   "source": [
    "Local density enhancement $\\frac{\\rho_s + \\rho_\\oplus}{\\rho_\\oplus}$"
   ]
  },
  {
   "cell_type": "code",
   "execution_count": 10,
   "metadata": {},
   "outputs": [],
   "source": [
    "rho_rel_nfw = (rho(dist_mg, r_s_mg, rho_s_nfw, gamma_nfw, \"nfw\") + rho_earth) / rho_earth"
   ]
  },
  {
   "cell_type": "markdown",
   "metadata": {},
   "source": [
    "Luminosity"
   ]
  },
  {
   "cell_type": "code",
   "execution_count": 12,
   "metadata": {},
   "outputs": [],
   "source": [
    "lum_nfw = luminosity(r_s_mg, rho_s_nfw, gamma_nfw, \"nfw\")"
   ]
  },
  {
   "cell_type": "markdown",
   "metadata": {},
   "source": [
    "$J$ factor"
   ]
  },
  {
   "cell_type": "code",
   "execution_count": 13,
   "metadata": {},
   "outputs": [],
   "source": [
    "from finite_clump_vectorized import J_factor\n",
    "J_nfw = J_factor(dist_mg, r_s_mg, rho_s_nfw, gamma_nfw, \"nfw\", fermi_psf)"
   ]
  },
  {
   "cell_type": "markdown",
   "metadata": {},
   "source": [
    "Gamma-ray flux at energy where clump would be detectable for $m_{\\mathrm{DM}} = 1513.6~\\mathrm{GeV}$, $\\frac{d\\phi_\\gamma}{d E_\\gamma} (E_\\gamma = 230$ GeV)"
   ]
  },
  {
   "cell_type": "code",
   "execution_count": 14,
   "metadata": {},
   "outputs": [],
   "source": [
    "e_gamma_ref = 230.  # GeV\n",
    "phi_g_nfw = phi_g(e_gamma_ref, dist_mg, r_s_mg, rho_s_nfw, gamma_nfw, \"nfw\",\n",
    "                  fermi_psf)"
   ]
  },
  {
   "cell_type": "markdown",
   "metadata": {},
   "source": [
    "Spatial extent of gamma-ray emission normalized to the size of Fermi's PSF, $\\frac{\\theta_{68\\%}}{\\theta_{\\mathrm{Fermi}}}$. This is quite slow."
   ]
  },
  {
   "cell_type": "code",
   "execution_count": 15,
   "metadata": {},
   "outputs": [
    {
     "name": "stderr",
     "output_type": "stream",
     "text": [
      "finite_clump_vectorized.py:186: IntegrationWarning: The maximum number of subdivisions (50) has been achieved.\n",
      "  If increasing the limit yields no improvement it is advised to analyze \n",
      "  the integrand in order to determine the difficulties.  If the position of a \n",
      "  local difficulty can be determined (singularity, discontinuity) one will \n",
      "  probably gain from splitting up the interval and calling the integrator \n",
      "  on the subranges.  Perhaps a special-purpose integrator should be used.\n",
      "  J_near, err_near = quad(dJ_dr, 0., dist, args, points=points_near, epsabs=0, epsrel=1e-5)\n",
      "finite_clump_vectorized.py:187: IntegrationWarning: The maximum number of subdivisions (50) has been achieved.\n",
      "  If increasing the limit yields no improvement it is advised to analyze \n",
      "  the integrand in order to determine the difficulties.  If the position of a \n",
      "  local difficulty can be determined (singularity, discontinuity) one will \n",
      "  probably gain from splitting up the interval and calling the integrator \n",
      "  on the subranges.  Perhaps a special-purpose integrator should be used.\n",
      "  J_far, err_far = quad(dJ_dr, dist, dist + 10*r_s, args, points=points_far, epsabs=0, epsrel=1e-5)\n"
     ]
    }
   ],
   "source": [
    "extent_nfw = gamma_ray_extent(dist_mg, r_s_mg, rho_s_nfw, gamma_nfw, \"nfw\",\n",
    "                              e_gamma_ref, thresh=0.68)"
   ]
  },
  {
   "cell_type": "markdown",
   "metadata": {},
   "source": [
    "Line width constraint. The first function is what we used in the paper: it computes the significance of the largest $e^\\pm$ excess over bins excluding the one with the excess. If this is greater than $3$, we say the $e^\\pm$ line is too wide.\n",
    "\n",
    "The second computes the $\\chi^2$ test statistic over those bins. Both functions take the argument `excluded_idxs`, which specifies other bins to exclude in the calculation.\n",
    "\n",
    "Both of these are slow."
   ]
  },
  {
   "cell_type": "code",
   "execution_count": 16,
   "metadata": {
    "scrolled": true
   },
   "outputs": [],
   "source": [
    "lw_nfw = line_width_constraint(dist_mg, r_s_mg, rho_s_nfw, gamma_nfw, \"nfw\")\n",
    "lw_chi2_nfw = line_width_constraint_chi2(dist_mg, r_s_mg, rho_s_nfw, gamma_nfw, \"nfw\")"
   ]
  },
  {
   "cell_type": "markdown",
   "metadata": {},
   "source": [
    "Fermi point source non-detection constraint. The first function call uses the default sensitivity function, which assumes the clump is located at $(b, \\ell) = (120^\\circ, 45^\\circ)$. The second assumes $(b, \\ell) = (0, 0)$."
   ]
  },
  {
   "cell_type": "code",
   "execution_count": 17,
   "metadata": {},
   "outputs": [],
   "source": [
    "rho_s_fermi_ps_nfw = fermi_point_src_contraint(dist_mg, r_s_mg, gamma_nfw, \"nfw\")\n",
    "rho_s_fermi_ps_0_0_nfw = fermi_point_src_contraint(\n",
    "    dist_mg, r_s_mg, gamma_nfw, \"nfw\", fermi_pt_src_sens=fermi_pt_src_sens_0_0)"
   ]
  },
  {
   "cell_type": "markdown",
   "metadata": {},
   "source": [
    "Extended source constraints. The first line sets the angular radius of the observing cone. The second computes the flux from the cone. The third normalizes to the extragalactic background."
   ]
  },
  {
   "cell_type": "code",
   "execution_count": 21,
   "metadata": {},
   "outputs": [],
   "source": [
    "th_ref = 1. * np.pi / 180  # 1 degree\n",
    "phi_g_ext_nfw = phi_g(\n",
    "    e_high_excess, dist_mg, r_s_mg, rho_s_nfw, gamma_nfw, \"nfw\", th_ref)\n",
    "phi_g_ext_rel_nfw = phi_g_ext_nfw / phi_g_egb_fermi(e_high_excess)"
   ]
  },
  {
   "cell_type": "markdown",
   "metadata": {},
   "source": [
    "Compute anisotropy (currently seems to not be working). This is very slow due to the complicated integrations. Luckily, the anisotropy is never as important as other constraints, at least for the DM mass/clumps considered in the spike paper."
   ]
  },
  {
   "cell_type": "code",
   "execution_count": 23,
   "metadata": {},
   "outputs": [],
   "source": [
    "# e_low, e_high = e_low_aniso_fermi[-1], e_high_aniso_fermi[-1]\n",
    "\n",
    "# try:\n",
    "#     anisos_nfw = anisotropy_integrated(\n",
    "#         e_low, e_high, dist_mg, r_s_mg, rho_s_nfw, gamma_nfw, \"nfw\", delta_d_rel=1e-4)\n",
    "# except:\n",
    "#     print(\"anisotropy calculation failed\")"
   ]
  },
  {
   "cell_type": "code",
   "execution_count": null,
   "metadata": {},
   "outputs": [],
   "source": []
  }
 ],
 "metadata": {
  "@webio": {
   "lastCommId": null,
   "lastKernelId": null
  },
  "kernelspec": {
   "display_name": "Python 2",
   "language": "python",
   "name": "python2"
  },
  "language_info": {
   "codemirror_mode": {
    "name": "ipython",
    "version": 2
   },
   "file_extension": ".py",
   "mimetype": "text/x-python",
   "name": "python",
   "nbconvert_exporter": "python",
   "pygments_lexer": "ipython2",
   "version": "2.7.13"
  }
 },
 "nbformat": 4,
 "nbformat_minor": 2
}
