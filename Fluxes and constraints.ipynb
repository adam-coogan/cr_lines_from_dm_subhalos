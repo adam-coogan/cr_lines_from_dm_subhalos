{
 "cells": [
  {
   "cell_type": "code",
   "execution_count": 114,
   "metadata": {
    "collapsed": true
   },
   "outputs": [],
   "source": [
    "import numpy as np\n",
    "from scipy.integrate import quad, dblquad\n",
    "from scipy.optimize import minimize, minimize_scalar\n",
    "from scipy.special import hyp2f1\n",
    "\n",
    "import numba\n",
    "from numba.types import intc, CPointer, float64\n",
    "from scipy import LowLevelCallable\n",
    "\n",
    "import os\n",
    "import time\n",
    "\n",
    "colors = [c.values()[0] for c in list(plt.rcParams[\"axes.prop_cycle\"])]"
   ]
  },
  {
   "cell_type": "markdown",
   "metadata": {},
   "source": [
    "To-do:\n",
    "* Unsure about factors of 2 in $e^- + e^+$ fluxes..."
   ]
  },
  {
   "cell_type": "markdown",
   "metadata": {},
   "source": [
    "## Setup"
   ]
  },
  {
   "cell_type": "markdown",
   "metadata": {
    "heading_collapsed": true
   },
   "source": [
    "### Constants"
   ]
  },
  {
   "cell_type": "code",
   "execution_count": 115,
   "metadata": {
    "collapsed": true,
    "hidden": true
   },
   "outputs": [],
   "source": [
    "speed_of_light = 3.0e10  # cm / s\n",
    "kpc_to_cm = 3.086e21  # 1 kpc = 3.086 x 10^21 cm\n",
    "\n",
    "b0 = 1.0e-16  # GeV/s\n",
    "e0 = 1.  # GeV\n",
    "\n",
    "D0 = 1.0e28  # cm^2 / s\n",
    "delta = 0.7\n",
    "\n",
    "alpha_em = 1. / 137.\n",
    "me = 0.501 * 1e-3  # m_e (GeV)\n",
    "fermi_psf = 0.15 * np.pi / 180.  # arxiv:0902.1089\n",
    "fermi_psf_solid_angle = 2.*np.pi*(1. - np.cos(fermi_psf))"
   ]
  },
  {
   "cell_type": "markdown",
   "metadata": {
    "heading_collapsed": true
   },
   "source": [
    "### Load AMS-02, DAMPE data + plotting fns"
   ]
  },
  {
   "cell_type": "code",
   "execution_count": 116,
   "metadata": {
    "collapsed": true,
    "hidden": true
   },
   "outputs": [],
   "source": [
    "pos_frac_es, pos_frac = np.loadtxt(\"../data/fluxes/positron_fraction_ams.dat\").T[[0, 3]]\n",
    "\n",
    "ams_es, ams_bin_low, ams_bin_high, ams_dflux, ams_stat, ams_syst = np.loadtxt(\"../data/fluxes/electron_positron_flux_ams.dat\").T\n",
    "ams_dflux = ams_dflux * 1e-4\n",
    "ams_dflux_err = np.sqrt(ams_stat**2 + ams_syst**2) * 1e-4\n",
    "\n",
    "dampe_bin_low, dampe_bin_high, dampe_es, dampe_dflux, dampe_stat, dampe_syst = np.loadtxt(\"../data/fluxes/electron_positron_flux_dampe.dat\").T\n",
    "dampe_dflux = dampe_dflux * 1e-4\n",
    "dampe_bins = np.transpose([dampe_bin_low, dampe_bin_high])\n",
    "dampe_dflux_err = np.sqrt(dampe_stat**2 + dampe_syst**2) * 1e-4\n",
    "\n",
    "ams_aniso_bound = 0.036\n",
    "\n",
    "dampe_excess_bin_low, dampe_excess_bin_high = 1318.3, 1513.6\n",
    "dampe_excess_iflux = (dampe_excess_bin_high - dampe_excess_bin_low) * dampe_dflux[np.abs(dampe_es-1400.).argmin()]  # integrated flux in \"excess\" cm^-2 s^-1 sr^-1"
   ]
  },
  {
   "cell_type": "code",
   "execution_count": 117,
   "metadata": {
    "code_folding": [],
    "collapsed": true,
    "hidden": true
   },
   "outputs": [],
   "source": [
    "def plot_obs_helper(bin_ls, bin_rs, vals, errs, label=None, color=\"r\", alpha=0.75, lw=0.75):\n",
    "    for i, (bl, br, l, u) in enumerate(zip(bin_ls, bin_rs, vals-errs, vals+errs)):\n",
    "        if i != len(bin_ls) - 1:\n",
    "            plt.fill_between([bl, br], [l, l], [u, u], color=color, alpha=alpha, lw=lw)\n",
    "        else:\n",
    "            plt.fill_between([bl, br], [l, l], [u, u], color=color, alpha=alpha, lw=lw, label=label)"
   ]
  },
  {
   "cell_type": "code",
   "execution_count": 118,
   "metadata": {
    "collapsed": true,
    "hidden": true
   },
   "outputs": [],
   "source": [
    "def plot_obs(power, highlight_excess_bins=True):\n",
    "    # Observations\n",
    "    plot_obs_helper(dampe_bin_low, dampe_bin_high,\n",
    "                    dampe_es**power * dampe_dflux,\n",
    "                    dampe_es**power * dampe_dflux_err,\n",
    "                    label=\"DAMPE\", alpha=0.3, lw=0.5, color=\"y\")\n",
    "\n",
    "    if highlight_excess_bins:\n",
    "        excess_idxs = range(23, 28) + [29]\n",
    "        plot_obs_helper(dampe_bin_low[excess_idxs], dampe_bin_high[excess_idxs],\n",
    "                        dampe_es[excess_idxs]**power * dampe_dflux[excess_idxs],\n",
    "                        dampe_es[excess_idxs]**power * dampe_dflux_err[excess_idxs],\n",
    "                        alpha=0.5, lw=0.5, color=\"g\")"
   ]
  },
  {
   "cell_type": "code",
   "execution_count": 119,
   "metadata": {
    "collapsed": true,
    "hidden": true
   },
   "outputs": [],
   "source": [
    "y_label = r\"$E^%i \\frac{d\\phi}{dE}|_{e^- + e^+}$ (GeV$^%i$ cm$^{-2}$ s$^{-1}$ sr$^{-1}$)\""
   ]
  },
  {
   "cell_type": "code",
   "execution_count": 120,
   "metadata": {
    "collapsed": true,
    "hidden": true
   },
   "outputs": [],
   "source": [
    "def get_color(bg_label):\n",
    "    bg_labels = [\"bg_dampe\", \"bg_alt\"]\n",
    "    return list(plt.rcParams[\"axes.prop_cycle\"])[bg_labels.index(bg_label)][\"color\"]"
   ]
  },
  {
   "cell_type": "markdown",
   "metadata": {
    "heading_collapsed": true
   },
   "source": [
    "### Background models"
   ]
  },
  {
   "cell_type": "code",
   "execution_count": 121,
   "metadata": {
    "code_folding": [
     0,
     9
    ],
    "collapsed": true,
    "hidden": true
   },
   "outputs": [],
   "source": [
    "def bg_dampe(es):\n",
    "    phi0 = 1.62e-4 * 1e-4  # (cm^2 s sr GeV)^-1\n",
    "    eb = 914  # GeV\n",
    "    gamma1 = 3.09\n",
    "    gamma2 = 3.92\n",
    "    delta = 0.1\n",
    "    \n",
    "    return phi0 * (100. / es)**gamma1 * (1. + (eb/es)**((gamma1-gamma2)/delta))**(-delta)\n",
    "\n",
    "def bg_alt(es):\n",
    "    phi0 = 246.0e-4   # (cm^2 s sr GeV)^-1\n",
    "    gamma = 3.09\n",
    "    delta = 10.\n",
    "    delta_gamma1 = 0.095\n",
    "    delta_gamma2 = -0.48\n",
    "    ebr2 = 471.  # GeV\n",
    "    ebr1 = 50.  # GeV\n",
    "    \n",
    "    return phi0 * es**(-gamma) * (1 + (ebr1 / es)**delta)**(delta_gamma1/delta) * \\\n",
    "        (1 + (es/ebr2)**delta)**(delta_gamma2/delta)"
   ]
  },
  {
   "cell_type": "markdown",
   "metadata": {
    "heading_collapsed": true
   },
   "source": [
    "### Propagation"
   ]
  },
  {
   "cell_type": "markdown",
   "metadata": {
    "hidden": true
   },
   "source": [
    "Energy losses"
   ]
  },
  {
   "cell_type": "code",
   "execution_count": 122,
   "metadata": {
    "code_folding": [],
    "collapsed": true,
    "hidden": true
   },
   "outputs": [],
   "source": [
    "def b(e):  # GeV / s\n",
    "    return b0 * (e / e0)**2"
   ]
  },
  {
   "cell_type": "markdown",
   "metadata": {
    "hidden": true
   },
   "source": [
    "Diffusion"
   ]
  },
  {
   "cell_type": "code",
   "execution_count": 123,
   "metadata": {
    "code_folding": [],
    "collapsed": true,
    "hidden": true
   },
   "outputs": [],
   "source": [
    "def D(e):  # cm^2 / s\n",
    "    return D0 * (e / e0)**delta"
   ]
  },
  {
   "cell_type": "markdown",
   "metadata": {
    "hidden": true
   },
   "source": [
    "Timescales. See eq. 5.3 in Stefano's book."
   ]
  },
  {
   "cell_type": "code",
   "execution_count": 124,
   "metadata": {
    "code_folding": [],
    "collapsed": true,
    "hidden": true
   },
   "outputs": [],
   "source": [
    "def t_diff(e, d):\n",
    "    # Diffusion timescale (s)\n",
    "    return (d*kpc_to_cm)**2 / (D0 * 1400.**delta)\n",
    "\n",
    "def t_loss(e):\n",
    "    # Energy loss timescale (s)\n",
    "    return e / b(e)\n",
    "\n",
    "# lambda_prop must be less than this quantity\n",
    "lambda_prop_max = D0 * e0 / (b0 * (1. - delta))  # cm^2\n",
    "\n",
    "def lambda_prop(es, mx):  # cm^2\n",
    "    def helper(e):\n",
    "        return D0*((e/e0)**delta*e0**2*mx - e*e0**2*(mx/e0)**delta) / \\\n",
    "            (b0*e*mx - b0*e*mx*delta) if e < mx else 0.\n",
    "    \n",
    "    return np.vectorize(helper)(es)"
   ]
  },
  {
   "cell_type": "markdown",
   "metadata": {},
   "source": [
    "### Point-like clump"
   ]
  },
  {
   "cell_type": "code",
   "execution_count": 125,
   "metadata": {
    "code_folding": [
     0,
     29,
     45
    ],
    "collapsed": true
   },
   "outputs": [],
   "source": [
    "def dphi_de_e_pt(es, d, mx, lum):\n",
    "    \"\"\"Differential flux of e^- from a point-like DM clump after propagation.\n",
    "    \n",
    "    To-do\n",
    "    -----\n",
    "    Include muon, tau final state contributions?\n",
    "    \n",
    "    Parameters\n",
    "    ----------\n",
    "    e : float\n",
    "        e^- energy (GeV).\n",
    "    d : float\n",
    "        Distance to clump (kpc).\n",
    "    lum : float\n",
    "        Clump luminosity (s^-1).\n",
    "        \n",
    "    Returns\n",
    "    -------\n",
    "    phi_e : float\n",
    "        Differential flux of e^- from DM annihilating in the clump (GeV^-1 cm^-2 s^-1 sr^-1)\n",
    "    \"\"\"\n",
    "    d_cm = kpc_to_cm * d  # convert distance to cm\n",
    "    \n",
    "    def helper(e):\n",
    "        lam = lambda_prop(e, mx)\n",
    "        return 1. / b(e) * np.exp(-d_cm**2 / (4.*lam)) / (4.*np.pi*lam)**1.5 * speed_of_light/(4.*np.pi) * lum if e < mx else 0.\n",
    "    \n",
    "    return np.vectorize(helper)(es)\n",
    "\n",
    "def dphi_de_gamma_pt(es, d, mx, lum):\n",
    "    \"\"\"Differential photon flux from FSR off xx->e+e- (GeV^-1 cm^-2 s^-1 sr^-1)\"\"\"\n",
    "    d_cm = kpc_to_cm * d\n",
    "    \n",
    "    def helper(e):\n",
    "        if e < mx:\n",
    "            ecm = 2.*mx\n",
    "            eps = 2.*me / ecm\n",
    "            x = 2.*e / ecm\n",
    "            \n",
    "            return lum/(4.*np.pi*d_cm**2) * alpha_em/(np.pi*e) * (1 + (1 - x)**2) * (np.log(4.*(1-x) / eps) - 1.)\n",
    "        else:\n",
    "            return 0.\n",
    "    \n",
    "    return np.vectorize(helper)(es)\n",
    "\n",
    "def phi_gamma_pt(d, mx, lum, e_thresh=0.1):\n",
    "    \"\"\"Flux of gamma rays produced through FSR from xx->e+e- by DM annihilating\n",
    "    in a point-like clump.\n",
    "    \n",
    "    Parameters\n",
    "    ----------\n",
    "    e_thresh : float\n",
    "        Minimum detectable gamma ray energy (GeV). Default is Fermi's threshold.\n",
    "    d : float\n",
    "        Distance to clump (kpc).\n",
    "    lum : float\n",
    "        Clump luminosity (s^-1).\n",
    "        \n",
    "    Returns\n",
    "    -------\n",
    "    phi_gamma : float\n",
    "        Integrated flux of gamma rays from DM annihilating in the clump (cm^-2 s^-1 sr^-1)\n",
    "    \"\"\"\n",
    "    d_cm = kpc_to_cm * d  # convert distance to cm\n",
    "    return lum / (4.*np.pi*d_cm**2) * 4.*alpha_em/np.pi * np.log(2.*mx/me) * \\\n",
    "        np.log(mx/e_thresh)"
   ]
  },
  {
   "cell_type": "code",
   "execution_count": 126,
   "metadata": {
    "code_folding": [
     0,
     10,
     18,
     27
    ],
    "collapsed": true,
    "scrolled": true
   },
   "outputs": [],
   "source": [
    "def lum_dampe_pt(d, mx, bg_dflux):\n",
    "    \"\"\"Returns the luminosity such that xx->e+e- fits the DAMPE excess.\n",
    "    \"\"\"\n",
    "    def integrand(e):\n",
    "        # Factor of 2 to count e+ and e-\n",
    "        return 2. * dphi_de_e_pt(e, d, mx, lum=1.)\n",
    "    \n",
    "    residual_flux = dampe_excess_iflux - quad(bg_dflux, dampe_excess_bin_low, dampe_excess_bin_high, epsabs=0.)[0]\n",
    "    return residual_flux / quad(integrand, dampe_excess_bin_low, dampe_excess_bin_high, epsabs=0)[0]\n",
    "\n",
    "def dphi_de_e_dampe_pt(e, d, bg_dflux):\n",
    "    \"\"\"Gets differential electron flux (GeV^-1 cm^-2 s^-1 sr^-1) by fitting the clump luminosity to the DAMPE excess.\n",
    "    \"\"\"\n",
    "    mx = dampe_excess_bin_high  # WARNING: only optimal for d < ~1 kpc!!!\n",
    "    lum = lum_dampe_pt(d, mx, bg_dflux)\n",
    "    \n",
    "    return dphi_de_e_pt(e, d, mx, lum)\n",
    "\n",
    "def dphi_de_gamma_dampe_pt(e, d, bg_dflux):\n",
    "    \"\"\"Gets differential photon flux (GeV^-1 cm^-2 s^-1 sr^-1) corresponding by\n",
    "    requiring luminosity to be such that xx->e+e- fits the DAMPE excess.\n",
    "    \"\"\"\n",
    "    mx = dampe_excess_bin_high  # WARNING: only optimal for d < ~1 kpc!!!\n",
    "    lum = lum_dampe_pt(d, mx, bg_dflux)\n",
    "    \n",
    "    return dphi_de_gamma_pt(e, d, mx, lum)\n",
    "\n",
    "def phi_gamma_dampe_pt(d, bg_dflux, e_min=0.1):\n",
    "    \"\"\"Gets photon flux (cm^-2 s^-1 sr^-1) corresponding by requiring luminosity\n",
    "    to be such that xx->e+e- fits the DAMPE excess.\n",
    "    \"\"\"\n",
    "    mx = dampe_excess_bin_high  # WARNING: only optimal for d < ~1 kpc!!!\n",
    "    lum = lum_dampe_pt(d, mx, bg_dflux)\n",
    "    \n",
    "    return phi_gamma_pt(d, mx, lum, e_min)"
   ]
  },
  {
   "cell_type": "markdown",
   "metadata": {},
   "source": [
    "The constrain functions return True if there exists $m_\\chi$ and $\\mathcal{L}$ such that the constraint is not violated."
   ]
  },
  {
   "cell_type": "code",
   "execution_count": 127,
   "metadata": {
    "code_folding": [
     0,
     16
    ],
    "collapsed": true
   },
   "outputs": [],
   "source": [
    "def get_dampe_anisotropy_pt(d, bg_dflux):\n",
    "    \"\"\"Gets the e-+e+ anisotropy from a DM clump with luminosity such that xx->e+e- explains the DAMPE excess.\n",
    "    \"\"\"\n",
    "    # Use last AMS-02 measurement, since bg is softer than DM signal\n",
    "    e = ams_es[-1]\n",
    "    flux_tot = ams_dflux[-1]\n",
    "    \n",
    "    # Find luminosity explaining the DAMPE excess\n",
    "    mx = dampe_excess_bin_high  # WARNING: only optimal for d < ~1 kpc!!!\n",
    "    lum = lum_dampe_pt(d, mx, bg_dflux)\n",
    "    \n",
    "    # Forward - backward flux. Factor of 2 since we want e-+e+ flux.\n",
    "    flux_fb = 2*dphi_de_e_pt(e, d, mx, lum)\n",
    "    \n",
    "    return flux_fb/flux_tot * 3.*D(e)/speed_of_light * 2.*d*kpc_to_cm / lambda_prop(e, mx)\n",
    "\n",
    "def constrain_anisotropy_pt(d, bg_dflux):\n",
    "    aniso = get_dampe_anisotropy_pt(d, bg_dflux)\n",
    "    if aniso > ams_aniso_bound:\n",
    "        return False\n",
    "    else:\n",
    "        return True\n",
    "\n",
    "def constrain_ep_e_spec_pt(d, bg_dflux, n_sigma=3., excluded_idxs=[]):\n",
    "    mx = dampe_excess_bin_high  # WARNING: only optimal for d < ~1 kpc!!!\n",
    "    lum = lum_dampe_pt(d, mx, bg_dflux)\n",
    "    idxs = list(set(range(len(dampe_bins))) - set(excluded_idxs))\n",
    "    \n",
    "    def integrand(e):\n",
    "        return 2. * dphi_de_e_pt(e, d, mx, lum)\n",
    "    \n",
    "    for (bl, br), dflux, dflux_err in reversed(zip(dampe_bins[idxs],\n",
    "                                                   dampe_dflux[idxs],\n",
    "                                                   dampe_dflux_err[idxs])):\n",
    "        if bl < mx:\n",
    "            # Get flux from DM annihilations in the bin\n",
    "            dm_iflux = quad(integrand, bl, br, epsabs=0.)[0]\n",
    "\n",
    "            # Residual flux\n",
    "            obs_iflux = (br - bl) * dflux\n",
    "            bg_iflux = quad(bg_dflux, bl, br, epsabs=0.)[0]\n",
    "            residual_iflux = obs_iflux - bg_iflux\n",
    "            \n",
    "            # Error on integrated flux\n",
    "            obs_iflux_err = (br - bl) * dflux_err\n",
    "\n",
    "            if abs(dm_iflux - residual_iflux) / obs_iflux_err >  n_sigma:\n",
    "                return False\n",
    "    \n",
    "    return True"
   ]
  },
  {
   "cell_type": "markdown",
   "metadata": {
    "heading_collapsed": true
   },
   "source": [
    "### Non-point-like clump"
   ]
  },
  {
   "cell_type": "markdown",
   "metadata": {
    "hidden": true
   },
   "source": [
    "Put the annihilation plateau in?"
   ]
  },
  {
   "cell_type": "code",
   "execution_count": 158,
   "metadata": {
    "code_folding": [
     55,
     88,
     121,
     131,
     148,
     176,
     178,
     180,
     182,
     184,
     196,
     229,
     269
    ],
    "collapsed": true,
    "hidden": true
   },
   "outputs": [],
   "source": [
    "@numba.cfunc(float64(intc, CPointer(float64)))\n",
    "def dphi_de_integrand_cf(n, xx):\n",
    "    \"\"\"\n",
    "    Parameters\n",
    "    ----------\n",
    "    r, e, d, mx, rs, rhos, sv, gamma\n",
    "    \"\"\"\n",
    "    # Extract arguments\n",
    "    r = xx[0]\n",
    "    e = xx[1]\n",
    "    d = xx[2]\n",
    "    mx = xx[3]\n",
    "    rs = xx[4]\n",
    "    rhos = xx[5]\n",
    "    sv = xx[6]\n",
    "    gamma = xx[7]\n",
    "\n",
    "    if e > mx:\n",
    "        return 0.\n",
    "    else:\n",
    "        # Constant factor\n",
    "        fact_const = np.pi*sv / mx**2\n",
    "        \n",
    "        # Energy-dependent parts\n",
    "        b = b0 * (e / e0)**2\n",
    "        lam = D0 * e0 / (b0 * (1. - delta)) * \\\n",
    "            ((e0 / e)**(1. - delta) - (e0 / mx)**(1. - delta))\n",
    "        fact_e = 1. / (b * (4.*np.pi*lam)**1.5)\n",
    "        \n",
    "        # Term from performing theta integral\n",
    "        th_term = (rhos**2*rs**2*((d + r)**(2. - 2.*gamma) *\n",
    "                                  (d + r + rs)**(-5. + 2.*gamma) *\n",
    "                                  (3.*d**2*(d + r + (5. - 2.*gamma)*rs) + \n",
    "                                   6.*d*r*(d + r + (5. - 2.*gamma)*rs) + \n",
    "                                   3.*r**2*(d + r + (5. - 2.*gamma)*rs) + \n",
    "                                   (10. - 9.*gamma + 2.*gamma**2)*rs**2*\n",
    "                                   (3.*(d + r) + 3.*rs - 2.*gamma*rs)) + \n",
    "                                  np.abs(d - r)**(2. - 2.*gamma) *\n",
    "                                  (rs + np.abs(d - r))**(-5. + 2.*gamma)*\n",
    "                                  ((-5. + 2.*gamma)*rs*\n",
    "                                   (3.*d**2 - 6.*d*r + 3.*r**2 +\n",
    "                                    (6. - 7.*gamma + 2.*gamma**2)*rs**2) -\n",
    "                                   3.*(d**2 - 2.*d*r + r**2 + \n",
    "                                      (10. - 9.*gamma + 2.*gamma**2)*rs**2) *\n",
    "                                   np.abs(d - r)))) / \\\n",
    "            (2.*d*(-2. + gamma)*(-1. + gamma)*(-5. + 2.*gamma)*(-3. + 2.*gamma)*r)\n",
    "\n",
    "        # Term with purely radial dependence\n",
    "        r_term = r**2 * np.exp(-(r * kpc_to_cm)**2 / (4. * lam))\n",
    "\n",
    "        # Put it all together\n",
    "        ret_val = fact_const * fact_e * th_term * r_term * speed_of_light * kpc_to_cm**3\n",
    "        \n",
    "        assert ret_val >= 0\n",
    "        \n",
    "        return ret_val\n",
    "\n",
    "dphi_de_integrand = LowLevelCallable(dphi_de_integrand_cf.ctypes)\n",
    "    \n",
    "def dphi_de_e(es, d, mx, rs, rhos, sv=3e-26, gamma=0.5):\n",
    "    \"\"\"Computes dphi/dE|_{e-} for a DM clump.\n",
    "    \n",
    "    Parameters\n",
    "    ----------\n",
    "    es : float or float array\n",
    "        Electron energies, GeV.\n",
    "    d : float\n",
    "        Distance to the clump's center, kpc.\n",
    "    mx : float\n",
    "        DM mass, GeV.\n",
    "    rs : float\n",
    "        Clump scale radius, kpc.\n",
    "    rhos : float\n",
    "        Clump density normalization, GeV/cm^3.\n",
    "    sv : float\n",
    "        DM self-annihilation cross section, cm^3/s.\n",
    "    gamma : float\n",
    "        NFW power index.\n",
    "    \"\"\"\n",
    "    def helper(e):\n",
    "        if e >= mx:\n",
    "            return 0.\n",
    "        else:\n",
    "            ret_val = quad(dphi_de_integrand, 0, 100.*d,\n",
    "                           args=(e, d, mx, rs, rhos, sv, gamma),\n",
    "                           epsabs=0)\n",
    "\n",
    "            assert ret_val[0] >= 0.\n",
    "            return ret_val[0]\n",
    "    \n",
    "    return np.vectorize(helper)(es)\n",
    "\n",
    "def rhos_dampe(d, mx, rs, bg_dflux, sv=3e-26, gamma=0.5):\n",
    "    \"\"\"Returns the clump density profile normalization that makes xx->e+e- fit\n",
    "    the DAMPE excess.\n",
    "    \n",
    "    Parameters\n",
    "    ----------\n",
    "    d : float\n",
    "        Distance to the clump's center, kpc.\n",
    "    mx : float\n",
    "        DM mass, GeV.\n",
    "    rs : float\n",
    "        Clump scale radius, kpc.\n",
    "    sv : float\n",
    "        DM self-annihilation cross section, cm^3/s.\n",
    "        \n",
    "    Returns\n",
    "    -------\n",
    "    rhos : float\n",
    "        Density profile normalization in GeV / cm^3.\n",
    "    \"\"\"\n",
    "    def integrand(e):\n",
    "        # Factor of 2 to count e+ and e-\n",
    "        return 2. * dphi_de_e(e, d, mx, rs, rhos=1., sv=sv, gamma=gamma)\n",
    "    \n",
    "    # Subtract off background contribution to the excess\n",
    "    residual_flux = dampe_excess_iflux - quad(bg_dflux,\n",
    "                                              dampe_excess_bin_low,\n",
    "                                              dampe_excess_bin_high, epsabs=0.)[0]\n",
    "    # DM contribution is proportional to rho_s^2\n",
    "    return np.sqrt(residual_flux / quad(integrand,\n",
    "                                        dampe_excess_bin_low,\n",
    "                                        dampe_excess_bin_high, epsabs=0)[0])\n",
    "\n",
    "def dphi_de_e_dampe(es, d, rs, bg_dflux, sv=3e-26, gamma=0.5):\n",
    "    \"\"\"Gets differential electron flux (GeV^-1 cm^-2 s^-1 sr^-1) by fitting rho_s\n",
    "    to the DAMPE excess.\n",
    "    \"\"\"\n",
    "    mx = dampe_excess_bin_high  # WARNING: only optimal for d < ~1 kpc!!!\n",
    "    rhos = rhos_dampe(d, mx, rs, bg_dflux, sv, gamma)\n",
    "    \n",
    "    return dphi_de_e(es, d, mx, rs, rhos, sv, gamma)\n",
    "\n",
    "@numba.cfunc(float64(intc, CPointer(float64)))\n",
    "def J_factor_integrand_cf(n, xx):\n",
    "    \"\"\"\n",
    "    Parameters\n",
    "    ----------\n",
    "    r, ctmax, d, rs, rhos, gamma\n",
    "    \"\"\"\n",
    "    # Extract arguments\n",
    "    r = xx[0]\n",
    "    ctmax = xx[1]\n",
    "    d = xx[2]\n",
    "    rs = xx[3]\n",
    "    rhos = xx[4]\n",
    "    gamma = xx[5]\n",
    "\n",
    "    # Solid angle subtended by target\n",
    "    dOmega = 2*np.pi*(1.-ctmax)\n",
    "\n",
    "    th_term = -((d**2 - 2*d*r + r**2)**(1 - gamma)*rs**2*\n",
    "                (np.sqrt(d**2 - 2*d*r + r**2) + rs)**(-5 + 2*gamma)*\n",
    "                (3*d**2*(np.sqrt(d**2 - 2*d*r + r**2) + (5 - 2*gamma)*rs) -\n",
    "                 6*d*r*(np.sqrt(d**2 - 2*d*r + r**2) + (5 - 2*gamma)*rs) +\n",
    "                 (10 - 9*gamma + 2*gamma**2)*rs**2*\n",
    "                 (3*np.sqrt(d**2 - 2*d*r + r**2) + 3*rs - 2*gamma*rs) +\n",
    "                 3*r**2*(np.sqrt(d**2 - 2*d*r + r**2) + 5*rs - 2*gamma*rs))*rhos**2) / \\\n",
    "        (2.*d*(-2 + gamma)*(-1 + gamma)*(-5 + 2*gamma)*(-3 + 2*gamma)*r) + \\\n",
    "        ((d**2 - 2*ctmax*d*r + r**2)**(1 - gamma)*rs**2*\n",
    "         (np.sqrt(d**2 - 2*ctmax*d*r + r**2) + rs)**(-5 + 2*gamma)*\n",
    "         (3*d**2*(np.sqrt(d**2 - 2*ctmax*d*r + r**2) + (5 - 2*gamma)*rs) -\n",
    "          6*ctmax*d*r*(np.sqrt(d**2 - 2*ctmax*d*r + r**2) +\n",
    "                        (5 - 2*gamma)*rs) +\n",
    "          (10 - 9*gamma + 2*gamma**2)*rs**2*\n",
    "          (3*np.sqrt(d**2 - 2*ctmax*d*r + r**2) + 3*rs - 2*gamma*rs) +\n",
    "          3*r**2*(np.sqrt(d**2 - 2*ctmax*d*r + r**2) + 5*rs - 2*gamma*rs)) *\n",
    "         rhos**2) / \\\n",
    "        (2.*d*(-2 + gamma)*(-1 + gamma)*(-5 + 2*gamma)*(-3 + 2*gamma)*r)\n",
    "\n",
    "    return 2*np.pi/dOmega * th_term\n",
    "\n",
    "J_factor_integrand = LowLevelCallable(J_factor_integrand_cf.ctypes)\n",
    "\n",
    "def J_factor(ctmax, d, rs, rhos, gamma=0.5):\n",
    "    \"\"\"Computes J factor for a target region.\n",
    "    \n",
    "    Parameters\n",
    "    ----------\n",
    "    ctmax : float\n",
    "        cos(theta_max), where theta_max is the angular diameter of the target.\n",
    "    d : float\n",
    "        Distance to center of DM clump in kpc.\n",
    "    rs : float\n",
    "        Clump scale radius in kpc\n",
    "    rhos : float\n",
    "        Clump density normalization in GeV / cm^3.\n",
    "    gamma : float\n",
    "        NFW power index.\n",
    "    \n",
    "    Returns\n",
    "    -------\n",
    "    J : float\n",
    "        J factor in GeV^2/cm^5\n",
    "    \"\"\"\n",
    "    return quad(J_factor_integrand, 0, 100.*d,\n",
    "                args=(ctmax, d, rs, rhos, gamma),\n",
    "                epsabs=0, points=[d])[0] * kpc_to_cm\n",
    "\n",
    "def dn_de_gamma(e, mx):\n",
    "    \"\"\"FSR spectrum for xbar x -> e+ e- g.\n",
    "    \n",
    "    Notes\n",
    "    -----\n",
    "    Uses Altarelli-Parisi approximation.\n",
    "    \n",
    "    Parameters\n",
    "    ----------\n",
    "    e : float\n",
    "        Photon energy in GeV.\n",
    "    mx : float\n",
    "        DM mass in GeV.\n",
    "        \n",
    "    Returns\n",
    "    -------\n",
    "    dnde : float\n",
    "        Spectrum in GeV^-1.\n",
    "    \"\"\"\n",
    "    Q = 2.*mx\n",
    "    x = 2.*e / Q\n",
    "    mu_e = me / Q\n",
    "    \n",
    "    if e > mx:\n",
    "        return 0.\n",
    "    else:\n",
    "        coeff = 2.*alpha_em / (np.pi*Q)\n",
    "        x_term = (1. + (1. - x)**2) / x * (np.log((1. - x) / mu_e**2) - 1.)\n",
    "\n",
    "        dnde = coeff * x_term\n",
    "        \n",
    "        return np.max([dnde, 0.])\n",
    "\n",
    "def dphi_de_gamma(es, ctmax, d, mx, rs, rhos, sv=3e-26, gamma=0.5, fx=2):\n",
    "    \"\"\"Computes dphi/dE|_gamma for a DM clump.\n",
    "    \n",
    "    Parameters\n",
    "    ----------\n",
    "    es : list of floats\n",
    "        Photon energies in GeV\n",
    "    ctmax : float\n",
    "    d : float\n",
    "        Distance to clump center in kpc\n",
    "    mx : float\n",
    "        DM mass in GeV\n",
    "    rs : float\n",
    "        Clump scale radius in kpc\n",
    "    rhos : float\n",
    "        Clump density normalization in GeV / cm^3\n",
    "    sv : float\n",
    "        DM self-annihilation cross section in cm^3 / s\n",
    "    gamma : float\n",
    "    fx : int\n",
    "        1 if DM is self-conjugate, 2 if not.\n",
    "        \n",
    "    Returns\n",
    "    -------\n",
    "        Photon flux at earth from target region in (GeV cm^2 s sr)^{-1}\n",
    "    \"\"\"\n",
    "    def helper(e):\n",
    "        if e >= mx:\n",
    "            return 0.\n",
    "        else:\n",
    "            dOmega = 2*np.pi*(1.-ctmax)\n",
    "            J = J_factor(ctmax, d, rs, rhos, gamma) # GeV^2 / cm^5\n",
    "            ret_val = dOmega/(4*np.pi) * J * sv / (2.*fx*mx**2) * dn_de_gamma(e, mx)\n",
    "            \n",
    "#             print J, dn_de_gamma(e, mx)\n",
    "#             assert ret_val >= 0.\n",
    "            return ret_val\n",
    "    \n",
    "    return np.vectorize(helper)(es)\n",
    "\n",
    "def dphi_de_gamma_dampe(es, ctmax, d, rs, bg_dflux, sv=3e-26, gamma=0.5, fx=2):\n",
    "    \"\"\"Gets differential electron flux (GeV^-1 cm^-2 s^-1 sr^-1) by fitting rho_s\n",
    "    to the DAMPE excess.\n",
    "    \"\"\"\n",
    "    mx = dampe_excess_bin_high  # WARNING: only optimal for d < ~1 kpc!!!\n",
    "    rhos = rhos_dampe(d, mx, rs, bg_dflux, sv)\n",
    "    \n",
    "    return dphi_de_gamma(es, ctmax, d, mx, rs, rhos, sv)"
   ]
  },
  {
   "cell_type": "markdown",
   "metadata": {
    "heading_collapsed": true
   },
   "source": [
    "### Without numba"
   ]
  },
  {
   "cell_type": "code",
   "execution_count": 196,
   "metadata": {
    "code_folding": [
     0,
     6,
     11,
     13,
     15,
     17,
     19,
     21,
     23,
     56,
     62,
     64,
     66,
     68,
     73
    ],
    "collapsed": true,
    "hidden": true
   },
   "outputs": [],
   "source": [
    "def rho_nfw(r, rs, rhos, mx, sv, t_bh=1.0e10*365*24*60*60, gamma=0.5):\n",
    "    rho = rhos * (r/rs)**(-gamma) * (1 + r/rs)**(gamma-3.)\n",
    "    rho_max = mx / (sv * t_bh)\n",
    "    \n",
    "    return min([rho, rho_max])\n",
    "\n",
    "def dphi_de_e_py(es, d, mx, rs, rhos, sv=3.0e-26, gamma=0.5):\n",
    "    \"\"\"Computes dphi/dE|_{e-} for a DM clump.\n",
    "    \n",
    "    Parameters\n",
    "    ----------\n",
    "    es : float or float array\n",
    "        Electron energies, GeV.\n",
    "    d : float\n",
    "        Distance to the clump's center, kpc.\n",
    "    mx : float\n",
    "        DM mass, GeV.\n",
    "    rs : float\n",
    "        Clump scale radius, kpc.\n",
    "    rhos : float\n",
    "        Clump density normalization, GeV/cm^3.\n",
    "    sv : float\n",
    "        DM self-annihilation cross section, cm^3/s.\n",
    "    gamma : float\n",
    "        NFW power index.\n",
    "    \"\"\"\n",
    "    def helper(e):\n",
    "        if e >= mx:\n",
    "            return 0.\n",
    "        else:\n",
    "            def integrand(r):\n",
    "                lam = lambda_prop(e, mx)\n",
    "                \n",
    "                coeff = np.pi * speed_of_light * sv / (mx**2*b(e) * (4.*np.pi*lam)**1.5)\n",
    "                r_term = r**2 * np.exp(-(r * kpc_to_cm)**2 / (4.*lam))\n",
    "                th_term = rhos**2*(((d - r)**2*hyp2f1(2. - 2.*gamma, 6. - 2.*gamma,\n",
    "                                                      3. - 2.*gamma,\n",
    "                                                      -(np.sqrt((d - r)**2)/rs)))/ \\\n",
    "                                   (np.sqrt((d - r)**2)/rs)**(2.*gamma)\n",
    "                                   - ((d + r)**2*hyp2f1(2. - 2.*gamma, 6. - 2.*gamma,\n",
    "                                                        3. - 2.*gamma,\n",
    "                                                        -(np.sqrt((d + r)**2)/rs)))/ \\\n",
    "                                   (np.sqrt((d + r)**2)/rs)**(2.*gamma)) / \\\n",
    "                    (2.*d*r*(-1 + gamma))\n",
    "\n",
    "                # Must convert rho_s^2 to GeV^2 kpc^-3 cm^-3\n",
    "                return coeff * r_term * th_term * kpc_to_cm**3\n",
    "            \n",
    "            r_max = 100.*d\n",
    "            \n",
    "            ret_val = quad(integrand, 0, r_max, points=[d], epsabs=0)\n",
    "            assert ret_val[0] >= 0.\n",
    "            return ret_val[0]\n",
    "    \n",
    "    return np.vectorize(helper)(es)\n",
    "\n",
    "def rhos_dampe_py(d, mx, rs, bg_dflux, sv=3.0e-26):\n",
    "    \"\"\"Returns the clump density profile normalization that makes xx->e+e- fit\n",
    "    the DAMPE excess.\n",
    "    \n",
    "    Parameters\n",
    "    ----------\n",
    "    d : float\n",
    "        Distance to the clump's center, kpc.\n",
    "    mx : float\n",
    "        DM mass, GeV.\n",
    "    rs : float\n",
    "        Clump scale radius, kpc.\n",
    "    sv : float\n",
    "        DM self-annihilation cross section, cm^3/s.\n",
    "        \n",
    "    Returns\n",
    "    -------\n",
    "    rhos : float\n",
    "        Density profile normalization in GeV / cm^3.\n",
    "    \"\"\"\n",
    "    def integrand_py(e):\n",
    "        # Factor of 2 to count e+ and e-\n",
    "        return 2. * dphi_de_e_py(e, d, mx, rs, rhos=1., sv=sv)\n",
    "    \n",
    "    # Subtract off background contribution to the excess\n",
    "    residual_flux = dampe_excess_iflux - quad(bg_dflux,\n",
    "                                              dampe_excess_bin_low,\n",
    "                                              dampe_excess_bin_high, epsabs=0.)[0]\n",
    "    # DM contribution is proportional to rho_s^2\n",
    "    return np.sqrt(residual_flux / quad(integrand_py,\n",
    "                                        dampe_excess_bin_low,\n",
    "                                        dampe_excess_bin_high, epsabs=0)[0])\n",
    "\n",
    "def dphi_de_e_dampe_py(es, d, rs, bg_dflux, sv=3.0e-26):\n",
    "    \"\"\"Gets differential electron flux (GeV^-1 cm^-2 s^-1 sr^-1) by fitting rho_s\n",
    "    to the DAMPE excess.\n",
    "    \"\"\"\n",
    "    mx = dampe_excess_bin_high  # WARNING: only optimal for d < ~1 kpc!!!\n",
    "    rhos = rhos_dampe_py(d, mx, rs, bg_dflux, sv)\n",
    "    \n",
    "    return dphi_de_e_py(es, d, mx, rs, rhos, sv)"
   ]
  },
  {
   "cell_type": "markdown",
   "metadata": {},
   "source": [
    "## Results for point-like clump"
   ]
  },
  {
   "cell_type": "markdown",
   "metadata": {
    "heading_collapsed": true
   },
   "source": [
    "### Consistency checks"
   ]
  },
  {
   "cell_type": "code",
   "execution_count": 29,
   "metadata": {
    "hidden": true
   },
   "outputs": [
    {
     "name": "stdout",
     "output_type": "stream",
     "text": [
      "(0.9999999999999999, 2.6689852737260364e-09)\n"
     ]
    }
   ],
   "source": [
    "lum = lum_dampe_pt(0.2, 1513.6, bg_alt)\n",
    "\n",
    "print quad(lambda e: (2.*dphi_de_e_pt(e, 0.2, 1513.6, lum) + bg_alt(e))/dampe_excess_iflux, 1318.3, 1513.6, points=[1513.6], epsabs=0.)"
   ]
  },
  {
   "cell_type": "code",
   "execution_count": 30,
   "metadata": {
    "hidden": true
   },
   "outputs": [
    {
     "name": "stdout",
     "output_type": "stream",
     "text": [
      "(0.9999999999999999, 1.145046260358032e-13)\n"
     ]
    }
   ],
   "source": [
    "lum = lum_dampe_pt(0.01, 1513.6, bg_dampe)\n",
    "\n",
    "print quad(lambda e: (2.*dphi_de_e_pt(e, 0.01, 1513.6, lum) + bg_dampe(e))/dampe_excess_iflux, 1318.3, 1513.6, points=[1513.6], epsabs=0.)"
   ]
  },
  {
   "cell_type": "code",
   "execution_count": 31,
   "metadata": {
    "hidden": true
   },
   "outputs": [
    {
     "data": {
      "text/plain": [
       "(1.0531671656433288, 0.95)"
      ]
     },
     "execution_count": 31,
     "metadata": {},
     "output_type": "execute_result"
    }
   ],
   "source": [
    "# Cross-check with Stefano's paper, arXiv:0904.0812. Close enough.\n",
    "phi_gamma_pt(1.22, 100., 6.797e35, 0.1)/3e-9, 0.95"
   ]
  },
  {
   "cell_type": "markdown",
   "metadata": {
    "heading_collapsed": true
   },
   "source": [
    "### Propagation variables"
   ]
  },
  {
   "cell_type": "markdown",
   "metadata": {
    "hidden": true
   },
   "source": [
    "This explains all the features of the plots below."
   ]
  },
  {
   "cell_type": "code",
   "execution_count": 32,
   "metadata": {
    "hidden": true
   },
   "outputs": [
    {
     "data": {
      "image/png": "[encoded data removed]",
      "text/plain": [
       "<Figure size 625x437.5 with 1 Axes>"
      ]
     },
     "metadata": {},
     "output_type": "display_data"
    }
   ],
   "source": [
    "plt.figure(figsize=(5, 3.5))\n",
    "\n",
    "ds = np.logspace(-2, np.log10(4), 400)\n",
    "\n",
    "plt.plot(ds, t_diff(1400., ds), label=r\"$\\tau_{\\mathrm{diff}}$\")\n",
    "plt.plot(ds, len(ds)*[t_loss(1400.)], label=r\"$\\tau_{\\mathrm{loss}}$\")\n",
    "\n",
    "plt.title(r\"Propagation timescales, $E_{e^-} = 1.4$ TeV\")\n",
    "plt.xlabel(r\"$d$ (kpc)\")\n",
    "plt.ylabel(\"Timescale (s)\")\n",
    "plt.xlim(ds[[0, -1]])\n",
    "plt.xscale(\"log\")\n",
    "plt.yscale(\"log\")\n",
    "plt.legend()\n",
    "\n",
    "plt.tight_layout()\n",
    "plt.savefig(\"../figures/propagation_timescales.pdf\")"
   ]
  },
  {
   "cell_type": "code",
   "execution_count": 33,
   "metadata": {
    "hidden": true
   },
   "outputs": [
    {
     "data": {
      "image/png": "[encoded data removed]",
      "text/plain": [
       "<Figure size 625x437.5 with 1 Axes>"
      ]
     },
     "metadata": {},
     "output_type": "display_data"
    }
   ],
   "source": [
    "es = np.logspace(0, np.log10(1600), 200)\n",
    "\n",
    "lambdas = lambda_prop(es, dampe_excess_bin_high)\n",
    "\n",
    "plt.plot(es, np.sqrt(lambdas) / kpc_to_cm)\n",
    "\n",
    "plt.yscale(\"log\")\n",
    "plt.xlabel(r\"$E_{e^-}$ (GeV)\")\n",
    "plt.ylabel(r\"$\\lambda^{1/2}(E)$ (kpc)\")\n",
    "plt.title(r\"$m_\\chi = %.1f\\mathrm{~GeV}$\" % dampe_excess_bin_high)\n",
    "\n",
    "plt.tight_layout()\n",
    "plt.savefig(\"../figures/sqrt_lambda.pdf\")"
   ]
  },
  {
   "cell_type": "markdown",
   "metadata": {},
   "source": [
    "### Applying anisotropy and spectrum constraints"
   ]
  },
  {
   "cell_type": "markdown",
   "metadata": {},
   "source": [
    "For DAMPE's background model:\n",
    "* Taking $d > 1.17$ kpc is ruled out by anistropy bounds.\n",
    "* Taking $d > 0.385$ kpc is ruled out by requiring that the DM + background contribution to the integrated flux does not exceed the observed value plus $3\\sigma$. The background model is ruled out at the $2\\sigma$ level...\n",
    "\n",
    "For Ge et al's background model:\n",
    "* Taking $d > 1.14$ kpc is ruled out by anistropy bounds.\n",
    "* Taking $d > 0.474$ kpc is ruled out by requiring that the DM + background contribution to the integrated flux does not exceed the observed value plus $2\\sigma$.\n",
    "* Taking $d > 0.597$ kpc is ruled out by requiring that the DM + background contribution to the integrated flux does not exceed the observed value plus $3\\sigma$."
   ]
  },
  {
   "cell_type": "code",
   "execution_count": 130,
   "metadata": {
    "collapsed": true
   },
   "outputs": [
    {
     "ename": "KeyboardInterrupt",
     "evalue": "",
     "output_type": "error",
     "traceback": [
      "\u001b[0;31m\u001b[0m",
      "\u001b[0;31mKeyboardInterrupt\u001b[0mTraceback (most recent call last)",
      "\u001b[0;32m<ipython-input-130-365cabe11f67>\u001b[0m in \u001b[0;36m<module>\u001b[0;34m()\u001b[0m\n\u001b[1;32m      3\u001b[0m \u001b[0;31m# Find max distance allowed by spectrum shape constraints\u001b[0m\u001b[0;34m\u001b[0m\u001b[0;34m\u001b[0m\u001b[0m\n\u001b[1;32m      4\u001b[0m \u001b[0;32mfor\u001b[0m \u001b[0md\u001b[0m \u001b[0;32min\u001b[0m \u001b[0mds\u001b[0m\u001b[0;34m:\u001b[0m\u001b[0;34m\u001b[0m\u001b[0m\n\u001b[0;32m----> 5\u001b[0;31m     \u001b[0mc_spec\u001b[0m \u001b[0;34m=\u001b[0m \u001b[0mconstrain_ep_e_spec_pt\u001b[0m\u001b[0;34m(\u001b[0m\u001b[0md\u001b[0m\u001b[0;34m,\u001b[0m \u001b[0mbg_alt\u001b[0m\u001b[0;34m,\u001b[0m \u001b[0mexcluded_idxs\u001b[0m\u001b[0;34m=\u001b[0m\u001b[0mrange\u001b[0m\u001b[0;34m(\u001b[0m\u001b[0;36m23\u001b[0m\u001b[0;34m,\u001b[0m \u001b[0;36m28\u001b[0m\u001b[0;34m)\u001b[0m \u001b[0;34m+\u001b[0m \u001b[0;34m[\u001b[0m\u001b[0;36m29\u001b[0m\u001b[0;34m]\u001b[0m\u001b[0;34m)\u001b[0m\u001b[0;34m\u001b[0m\u001b[0m\n\u001b[0m\u001b[1;32m      6\u001b[0m     \u001b[0;32mif\u001b[0m \u001b[0;32mnot\u001b[0m \u001b[0mc_spec\u001b[0m\u001b[0;34m:\u001b[0m\u001b[0;34m\u001b[0m\u001b[0m\n\u001b[1;32m      7\u001b[0m         \u001b[0md_max_spec_bg_alt\u001b[0m \u001b[0;34m=\u001b[0m \u001b[0md\u001b[0m\u001b[0;34m\u001b[0m\u001b[0m\n",
      "\u001b[0;32m<ipython-input-127-ae68d88681b7>\u001b[0m in \u001b[0;36mconstrain_ep_e_spec_pt\u001b[0;34m(d, bg_dflux, n_sigma, excluded_idxs)\u001b[0m\n\u001b[1;32m     24\u001b[0m \u001b[0;32mdef\u001b[0m \u001b[0mconstrain_ep_e_spec_pt\u001b[0m\u001b[0;34m(\u001b[0m\u001b[0md\u001b[0m\u001b[0;34m,\u001b[0m \u001b[0mbg_dflux\u001b[0m\u001b[0;34m,\u001b[0m \u001b[0mn_sigma\u001b[0m\u001b[0;34m=\u001b[0m\u001b[0;36m3.\u001b[0m\u001b[0;34m,\u001b[0m \u001b[0mexcluded_idxs\u001b[0m\u001b[0;34m=\u001b[0m\u001b[0;34m[\u001b[0m\u001b[0;34m]\u001b[0m\u001b[0;34m)\u001b[0m\u001b[0;34m:\u001b[0m\u001b[0;34m\u001b[0m\u001b[0m\n\u001b[1;32m     25\u001b[0m     \u001b[0mmx\u001b[0m \u001b[0;34m=\u001b[0m \u001b[0mdampe_excess_bin_high\u001b[0m  \u001b[0;31m# WARNING: only optimal for d < ~1 kpc!!!\u001b[0m\u001b[0;34m\u001b[0m\u001b[0m\n\u001b[0;32m---> 26\u001b[0;31m     \u001b[0mlum\u001b[0m \u001b[0;34m=\u001b[0m \u001b[0mlum_dampe_pt\u001b[0m\u001b[0;34m(\u001b[0m\u001b[0md\u001b[0m\u001b[0;34m,\u001b[0m \u001b[0mmx\u001b[0m\u001b[0;34m,\u001b[0m \u001b[0mbg_dflux\u001b[0m\u001b[0;34m)\u001b[0m\u001b[0;34m\u001b[0m\u001b[0m\n\u001b[0m\u001b[1;32m     27\u001b[0m     \u001b[0midxs\u001b[0m \u001b[0;34m=\u001b[0m \u001b[0mlist\u001b[0m\u001b[0;34m(\u001b[0m\u001b[0mset\u001b[0m\u001b[0;34m(\u001b[0m\u001b[0mrange\u001b[0m\u001b[0;34m(\u001b[0m\u001b[0mlen\u001b[0m\u001b[0;34m(\u001b[0m\u001b[0mdampe_bins\u001b[0m\u001b[0;34m)\u001b[0m\u001b[0;34m)\u001b[0m\u001b[0;34m)\u001b[0m \u001b[0;34m-\u001b[0m \u001b[0mset\u001b[0m\u001b[0;34m(\u001b[0m\u001b[0mexcluded_idxs\u001b[0m\u001b[0;34m)\u001b[0m\u001b[0;34m)\u001b[0m\u001b[0;34m\u001b[0m\u001b[0m\n\u001b[1;32m     28\u001b[0m \u001b[0;34m\u001b[0m\u001b[0m\n",
      "\u001b[0;32m<ipython-input-126-e0630c954677>\u001b[0m in \u001b[0;36mlum_dampe_pt\u001b[0;34m(d, mx, bg_dflux)\u001b[0m\n\u001b[1;32m      7\u001b[0m \u001b[0;34m\u001b[0m\u001b[0m\n\u001b[1;32m      8\u001b[0m     \u001b[0mresidual_flux\u001b[0m \u001b[0;34m=\u001b[0m \u001b[0mdampe_excess_iflux\u001b[0m \u001b[0;34m-\u001b[0m \u001b[0mquad\u001b[0m\u001b[0;34m(\u001b[0m\u001b[0mbg_dflux\u001b[0m\u001b[0;34m,\u001b[0m \u001b[0mdampe_excess_bin_low\u001b[0m\u001b[0;34m,\u001b[0m \u001b[0mdampe_excess_bin_high\u001b[0m\u001b[0;34m,\u001b[0m \u001b[0mepsabs\u001b[0m\u001b[0;34m=\u001b[0m\u001b[0;36m0.\u001b[0m\u001b[0;34m)\u001b[0m\u001b[0;34m[\u001b[0m\u001b[0;36m0\u001b[0m\u001b[0;34m]\u001b[0m\u001b[0;34m\u001b[0m\u001b[0m\n\u001b[0;32m----> 9\u001b[0;31m     \u001b[0;32mreturn\u001b[0m \u001b[0mresidual_flux\u001b[0m \u001b[0;34m/\u001b[0m \u001b[0mquad\u001b[0m\u001b[0;34m(\u001b[0m\u001b[0mintegrand\u001b[0m\u001b[0;34m,\u001b[0m \u001b[0mdampe_excess_bin_low\u001b[0m\u001b[0;34m,\u001b[0m \u001b[0mdampe_excess_bin_high\u001b[0m\u001b[0;34m,\u001b[0m \u001b[0mepsabs\u001b[0m\u001b[0;34m=\u001b[0m\u001b[0;36m0\u001b[0m\u001b[0;34m)\u001b[0m\u001b[0;34m[\u001b[0m\u001b[0;36m0\u001b[0m\u001b[0;34m]\u001b[0m\u001b[0;34m\u001b[0m\u001b[0m\n\u001b[0m\u001b[1;32m     10\u001b[0m \u001b[0;34m\u001b[0m\u001b[0m\n\u001b[1;32m     11\u001b[0m \u001b[0;32mdef\u001b[0m \u001b[0mdphi_de_e_dampe_pt\u001b[0m\u001b[0;34m(\u001b[0m\u001b[0me\u001b[0m\u001b[0;34m,\u001b[0m \u001b[0md\u001b[0m\u001b[0;34m,\u001b[0m \u001b[0mbg_dflux\u001b[0m\u001b[0;34m)\u001b[0m\u001b[0;34m:\u001b[0m\u001b[0;34m\u001b[0m\u001b[0m\n",
      "\u001b[0;32m/Users/acoogan/.pyenv/versions/2.7.13/Python.framework/Versions/2.7/lib/python2.7/site-packages/scipy/integrate/quadpack.pyc\u001b[0m in \u001b[0;36mquad\u001b[0;34m(func, a, b, args, full_output, epsabs, epsrel, limit, points, weight, wvar, wopts, maxp1, limlst)\u001b[0m\n\u001b[1;32m    339\u001b[0m     \u001b[0;32mif\u001b[0m \u001b[0mweight\u001b[0m \u001b[0;32mis\u001b[0m \u001b[0mNone\u001b[0m\u001b[0;34m:\u001b[0m\u001b[0;34m\u001b[0m\u001b[0m\n\u001b[1;32m    340\u001b[0m         retval = _quad(func, a, b, args, full_output, epsabs, epsrel, limit,\n\u001b[0;32m--> 341\u001b[0;31m                        points)\n\u001b[0m\u001b[1;32m    342\u001b[0m     \u001b[0;32melse\u001b[0m\u001b[0;34m:\u001b[0m\u001b[0;34m\u001b[0m\u001b[0m\n\u001b[1;32m    343\u001b[0m         retval = _quad_weight(func, a, b, args, full_output, epsabs, epsrel,\n",
      "\u001b[0;32m/Users/acoogan/.pyenv/versions/2.7.13/Python.framework/Versions/2.7/lib/python2.7/site-packages/scipy/integrate/quadpack.pyc\u001b[0m in \u001b[0;36m_quad\u001b[0;34m(func, a, b, args, full_output, epsabs, epsrel, limit, points)\u001b[0m\n\u001b[1;32m    446\u001b[0m     \u001b[0;32mif\u001b[0m \u001b[0mpoints\u001b[0m \u001b[0;32mis\u001b[0m \u001b[0mNone\u001b[0m\u001b[0;34m:\u001b[0m\u001b[0;34m\u001b[0m\u001b[0m\n\u001b[1;32m    447\u001b[0m         \u001b[0;32mif\u001b[0m \u001b[0minfbounds\u001b[0m \u001b[0;34m==\u001b[0m \u001b[0;36m0\u001b[0m\u001b[0;34m:\u001b[0m\u001b[0;34m\u001b[0m\u001b[0m\n\u001b[0;32m--> 448\u001b[0;31m             \u001b[0;32mreturn\u001b[0m \u001b[0m_quadpack\u001b[0m\u001b[0;34m.\u001b[0m\u001b[0m_qagse\u001b[0m\u001b[0;34m(\u001b[0m\u001b[0mfunc\u001b[0m\u001b[0;34m,\u001b[0m\u001b[0ma\u001b[0m\u001b[0;34m,\u001b[0m\u001b[0mb\u001b[0m\u001b[0;34m,\u001b[0m\u001b[0margs\u001b[0m\u001b[0;34m,\u001b[0m\u001b[0mfull_output\u001b[0m\u001b[0;34m,\u001b[0m\u001b[0mepsabs\u001b[0m\u001b[0;34m,\u001b[0m\u001b[0mepsrel\u001b[0m\u001b[0;34m,\u001b[0m\u001b[0mlimit\u001b[0m\u001b[0;34m)\u001b[0m\u001b[0;34m\u001b[0m\u001b[0m\n\u001b[0m\u001b[1;32m    449\u001b[0m         \u001b[0;32melse\u001b[0m\u001b[0;34m:\u001b[0m\u001b[0;34m\u001b[0m\u001b[0m\n\u001b[1;32m    450\u001b[0m             \u001b[0;32mreturn\u001b[0m \u001b[0m_quadpack\u001b[0m\u001b[0;34m.\u001b[0m\u001b[0m_qagie\u001b[0m\u001b[0;34m(\u001b[0m\u001b[0mfunc\u001b[0m\u001b[0;34m,\u001b[0m\u001b[0mbound\u001b[0m\u001b[0;34m,\u001b[0m\u001b[0minfbounds\u001b[0m\u001b[0;34m,\u001b[0m\u001b[0margs\u001b[0m\u001b[0;34m,\u001b[0m\u001b[0mfull_output\u001b[0m\u001b[0;34m,\u001b[0m\u001b[0mepsabs\u001b[0m\u001b[0;34m,\u001b[0m\u001b[0mepsrel\u001b[0m\u001b[0;34m,\u001b[0m\u001b[0mlimit\u001b[0m\u001b[0;34m)\u001b[0m\u001b[0;34m\u001b[0m\u001b[0m\n",
      "\u001b[0;32m<ipython-input-126-e0630c954677>\u001b[0m in \u001b[0;36mintegrand\u001b[0;34m(e)\u001b[0m\n\u001b[1;32m      4\u001b[0m     \u001b[0;32mdef\u001b[0m \u001b[0mintegrand\u001b[0m\u001b[0;34m(\u001b[0m\u001b[0me\u001b[0m\u001b[0;34m)\u001b[0m\u001b[0;34m:\u001b[0m\u001b[0;34m\u001b[0m\u001b[0m\n\u001b[1;32m      5\u001b[0m         \u001b[0;31m# Factor of 2 to count e+ and e-\u001b[0m\u001b[0;34m\u001b[0m\u001b[0;34m\u001b[0m\u001b[0m\n\u001b[0;32m----> 6\u001b[0;31m         \u001b[0;32mreturn\u001b[0m \u001b[0;36m2.\u001b[0m \u001b[0;34m*\u001b[0m \u001b[0mdphi_de_e_pt\u001b[0m\u001b[0;34m(\u001b[0m\u001b[0me\u001b[0m\u001b[0;34m,\u001b[0m \u001b[0md\u001b[0m\u001b[0;34m,\u001b[0m \u001b[0mmx\u001b[0m\u001b[0;34m,\u001b[0m \u001b[0mlum\u001b[0m\u001b[0;34m=\u001b[0m\u001b[0;36m1.\u001b[0m\u001b[0;34m)\u001b[0m\u001b[0;34m\u001b[0m\u001b[0m\n\u001b[0m\u001b[1;32m      7\u001b[0m \u001b[0;34m\u001b[0m\u001b[0m\n\u001b[1;32m      8\u001b[0m     \u001b[0mresidual_flux\u001b[0m \u001b[0;34m=\u001b[0m \u001b[0mdampe_excess_iflux\u001b[0m \u001b[0;34m-\u001b[0m \u001b[0mquad\u001b[0m\u001b[0;34m(\u001b[0m\u001b[0mbg_dflux\u001b[0m\u001b[0;34m,\u001b[0m \u001b[0mdampe_excess_bin_low\u001b[0m\u001b[0;34m,\u001b[0m \u001b[0mdampe_excess_bin_high\u001b[0m\u001b[0;34m,\u001b[0m \u001b[0mepsabs\u001b[0m\u001b[0;34m=\u001b[0m\u001b[0;36m0.\u001b[0m\u001b[0;34m)\u001b[0m\u001b[0;34m[\u001b[0m\u001b[0;36m0\u001b[0m\u001b[0;34m]\u001b[0m\u001b[0;34m\u001b[0m\u001b[0m\n",
      "\u001b[0;32m<ipython-input-125-bb237d6effae>\u001b[0m in \u001b[0;36mdphi_de_e_pt\u001b[0;34m(es, d, mx, lum)\u001b[0m\n\u001b[1;32m     26\u001b[0m         \u001b[0;32mreturn\u001b[0m \u001b[0;36m1.\u001b[0m \u001b[0;34m/\u001b[0m \u001b[0mb\u001b[0m\u001b[0;34m(\u001b[0m\u001b[0me\u001b[0m\u001b[0;34m)\u001b[0m \u001b[0;34m*\u001b[0m \u001b[0mnp\u001b[0m\u001b[0;34m.\u001b[0m\u001b[0mexp\u001b[0m\u001b[0;34m(\u001b[0m\u001b[0;34m-\u001b[0m\u001b[0md_cm\u001b[0m\u001b[0;34m**\u001b[0m\u001b[0;36m2\u001b[0m \u001b[0;34m/\u001b[0m \u001b[0;34m(\u001b[0m\u001b[0;36m4.\u001b[0m\u001b[0;34m*\u001b[0m\u001b[0mlam\u001b[0m\u001b[0;34m)\u001b[0m\u001b[0;34m)\u001b[0m \u001b[0;34m/\u001b[0m \u001b[0;34m(\u001b[0m\u001b[0;36m4.\u001b[0m\u001b[0;34m*\u001b[0m\u001b[0mnp\u001b[0m\u001b[0;34m.\u001b[0m\u001b[0mpi\u001b[0m\u001b[0;34m*\u001b[0m\u001b[0mlam\u001b[0m\u001b[0;34m)\u001b[0m\u001b[0;34m**\u001b[0m\u001b[0;36m1.5\u001b[0m \u001b[0;34m*\u001b[0m \u001b[0mspeed_of_light\u001b[0m\u001b[0;34m/\u001b[0m\u001b[0;34m(\u001b[0m\u001b[0;36m4.\u001b[0m\u001b[0;34m*\u001b[0m\u001b[0mnp\u001b[0m\u001b[0;34m.\u001b[0m\u001b[0mpi\u001b[0m\u001b[0;34m)\u001b[0m \u001b[0;34m*\u001b[0m \u001b[0mlum\u001b[0m \u001b[0;32mif\u001b[0m \u001b[0me\u001b[0m \u001b[0;34m<\u001b[0m \u001b[0mmx\u001b[0m \u001b[0;32melse\u001b[0m \u001b[0;36m0.\u001b[0m\u001b[0;34m\u001b[0m\u001b[0m\n\u001b[1;32m     27\u001b[0m \u001b[0;34m\u001b[0m\u001b[0m\n\u001b[0;32m---> 28\u001b[0;31m     \u001b[0;32mreturn\u001b[0m \u001b[0mnp\u001b[0m\u001b[0;34m.\u001b[0m\u001b[0mvectorize\u001b[0m\u001b[0;34m(\u001b[0m\u001b[0mhelper\u001b[0m\u001b[0;34m)\u001b[0m\u001b[0;34m(\u001b[0m\u001b[0mes\u001b[0m\u001b[0;34m)\u001b[0m\u001b[0;34m\u001b[0m\u001b[0m\n\u001b[0m\u001b[1;32m     29\u001b[0m \u001b[0;34m\u001b[0m\u001b[0m\n\u001b[1;32m     30\u001b[0m \u001b[0;32mdef\u001b[0m \u001b[0mdphi_de_gamma_pt\u001b[0m\u001b[0;34m(\u001b[0m\u001b[0mes\u001b[0m\u001b[0;34m,\u001b[0m \u001b[0md\u001b[0m\u001b[0;34m,\u001b[0m \u001b[0mmx\u001b[0m\u001b[0;34m,\u001b[0m \u001b[0mlum\u001b[0m\u001b[0;34m)\u001b[0m\u001b[0;34m:\u001b[0m\u001b[0;34m\u001b[0m\u001b[0m\n",
      "\u001b[0;32m/Users/acoogan/.pyenv/versions/2.7.13/Python.framework/Versions/2.7/lib/python2.7/site-packages/numpy/lib/function_base.pyc\u001b[0m in \u001b[0;36m__call__\u001b[0;34m(self, *args, **kwargs)\u001b[0m\n\u001b[1;32m   2753\u001b[0m             \u001b[0mvargs\u001b[0m\u001b[0;34m.\u001b[0m\u001b[0mextend\u001b[0m\u001b[0;34m(\u001b[0m\u001b[0;34m[\u001b[0m\u001b[0mkwargs\u001b[0m\u001b[0;34m[\u001b[0m\u001b[0m_n\u001b[0m\u001b[0;34m]\u001b[0m \u001b[0;32mfor\u001b[0m \u001b[0m_n\u001b[0m \u001b[0;32min\u001b[0m \u001b[0mnames\u001b[0m\u001b[0;34m]\u001b[0m\u001b[0;34m)\u001b[0m\u001b[0;34m\u001b[0m\u001b[0m\n\u001b[1;32m   2754\u001b[0m \u001b[0;34m\u001b[0m\u001b[0m\n\u001b[0;32m-> 2755\u001b[0;31m         \u001b[0;32mreturn\u001b[0m \u001b[0mself\u001b[0m\u001b[0;34m.\u001b[0m\u001b[0m_vectorize_call\u001b[0m\u001b[0;34m(\u001b[0m\u001b[0mfunc\u001b[0m\u001b[0;34m=\u001b[0m\u001b[0mfunc\u001b[0m\u001b[0;34m,\u001b[0m \u001b[0margs\u001b[0m\u001b[0;34m=\u001b[0m\u001b[0mvargs\u001b[0m\u001b[0;34m)\u001b[0m\u001b[0;34m\u001b[0m\u001b[0m\n\u001b[0m\u001b[1;32m   2756\u001b[0m \u001b[0;34m\u001b[0m\u001b[0m\n\u001b[1;32m   2757\u001b[0m     \u001b[0;32mdef\u001b[0m \u001b[0m_get_ufunc_and_otypes\u001b[0m\u001b[0;34m(\u001b[0m\u001b[0mself\u001b[0m\u001b[0;34m,\u001b[0m \u001b[0mfunc\u001b[0m\u001b[0;34m,\u001b[0m \u001b[0margs\u001b[0m\u001b[0;34m)\u001b[0m\u001b[0;34m:\u001b[0m\u001b[0;34m\u001b[0m\u001b[0m\n",
      "\u001b[0;32m/Users/acoogan/.pyenv/versions/2.7.13/Python.framework/Versions/2.7/lib/python2.7/site-packages/numpy/lib/function_base.pyc\u001b[0m in \u001b[0;36m_vectorize_call\u001b[0;34m(self, func, args)\u001b[0m\n\u001b[1;32m   2827\u001b[0m             \u001b[0;31m# Convert args to object arrays first\u001b[0m\u001b[0;34m\u001b[0m\u001b[0;34m\u001b[0m\u001b[0m\n\u001b[1;32m   2828\u001b[0m             inputs = [array(a, copy=False, subok=True, dtype=object)\n\u001b[0;32m-> 2829\u001b[0;31m                       for a in args]\n\u001b[0m\u001b[1;32m   2830\u001b[0m \u001b[0;34m\u001b[0m\u001b[0m\n\u001b[1;32m   2831\u001b[0m             \u001b[0moutputs\u001b[0m \u001b[0;34m=\u001b[0m \u001b[0mufunc\u001b[0m\u001b[0;34m(\u001b[0m\u001b[0;34m*\u001b[0m\u001b[0minputs\u001b[0m\u001b[0;34m)\u001b[0m\u001b[0;34m\u001b[0m\u001b[0m\n",
      "\u001b[0;31mKeyboardInterrupt\u001b[0m: "
     ]
    }
   ],
   "source": [
    "ds = np.logspace(np.log10(0.01), np.log10(10), 300)\n",
    "\n",
    "# Find max distance allowed by spectrum shape constraints\n",
    "for d in ds:   \n",
    "    c_spec = constrain_ep_e_spec_pt(d, bg_alt, excluded_idxs=range(23, 28) + [29])\n",
    "    if not c_spec:\n",
    "        d_max_spec_bg_alt = d\n",
    "        break\n",
    "\n",
    "# Find max distance allowed by anisotropy constraints\n",
    "for d in ds:\n",
    "    c_aniso = constrain_anisotropy_pt(d, bg_alt)\n",
    "    if not c_aniso:\n",
    "        d_max_aniso_bg_alt = d\n",
    "        break\n",
    "\n",
    "# Find max distance allowed by spectrum and anistropy constraints\n",
    "d_max_bg_alt = min([d_max_aniso_bg_alt, d_max_spec_bg_alt])"
   ]
  },
  {
   "cell_type": "code",
   "execution_count": null,
   "metadata": {
    "collapsed": true
   },
   "outputs": [],
   "source": [
    "ds = np.logspace(np.log10(0.01), np.log10(10), 300)\n",
    "\n",
    "# Find max distance allowed by anisotropy constraints\n",
    "for d in ds:\n",
    "    c_aniso = constrain_anisotropy_pt(d, bg_dampe)\n",
    "    if not c_aniso:\n",
    "        d_max_aniso_bg_dampe = d\n",
    "        break\n",
    "\n",
    "# Find max distance allowed by spectrum shape constraints\n",
    "for d in ds:   \n",
    "    c_spec = constrain_ep_e_spec_pt(d, bg_dampe)\n",
    "    if not c_spec:\n",
    "        d_max_spec_bg_dampe = d\n",
    "        break\n",
    "\n",
    "# Find max distance allowed by spectrum and anistropy constraints\n",
    "d_max_bg_dampe = min([d_max_aniso_bg_dampe, d_max_spec_bg_dampe])"
   ]
  },
  {
   "cell_type": "markdown",
   "metadata": {
    "heading_collapsed": true
   },
   "source": [
    "### $\\bar{\\chi}\\chi \\to e^+ e^-$ spectrum"
   ]
  },
  {
   "cell_type": "markdown",
   "metadata": {
    "hidden": true
   },
   "source": [
    "In general, setting $m_\\chi$ at the upper energy limit of the bin with the excess minimizes the luminosity.\n",
    "\n",
    "For $d \\gtrsim 1.5$ kpc, $\\mathcal{L}$ is minimized by taking $m_\\chi$ quite large, due to energy losses."
   ]
  },
  {
   "cell_type": "markdown",
   "metadata": {
    "hidden": true
   },
   "source": [
    "#### Differential flux"
   ]
  },
  {
   "cell_type": "code",
   "execution_count": null,
   "metadata": {
    "collapsed": true,
    "hidden": true
   },
   "outputs": [],
   "source": [
    "plt.figure(figsize=(5, 3.5))\n",
    "\n",
    "e_es = np.logspace(np.log10(300), np.log10(2.5e3), 400)\n",
    "\n",
    "power = 3\n",
    "\n",
    "# Observations\n",
    "plot_obs(dampe_bin_low, dampe_bin_high,\n",
    "         dampe_es**power * dampe_dflux,\n",
    "         dampe_es**power * dampe_dflux_err,\n",
    "         label=\"DAMPE\", alpha=0.3, lw=0.5, color=\"y\")\n",
    "\n",
    "excess_idxs = range(23, 28) + [29]\n",
    "plot_obs(dampe_bin_low[excess_idxs], dampe_bin_high[excess_idxs],\n",
    "         dampe_es[excess_idxs]**power * dampe_dflux[excess_idxs],\n",
    "         dampe_es[excess_idxs]**power * dampe_dflux_err[excess_idxs],\n",
    "         alpha=0.5, lw=0.5, color=\"g\")\n",
    "\n",
    "# plot_obs(ams_bin_low, ams_bin_high,\n",
    "#          ams_es**power * ams_dflux,\n",
    "#          ams_es**power * ams_dflux_err,\n",
    "#          label=\"AMS-02\", alpha=0.5, lw=0.5, color=\"y\")\n",
    "\n",
    "# DM e-+e+ spectra + bg\n",
    "plt.plot(e_es,e_es**power * (2.*dphi_de_e_dampe_pt(e_es, d=0.2, bg_dflux=bg_dampe) + bg_dampe(e_es)),\n",
    "         label=r\"DM + bg, $d$=0.2 kpc\")\n",
    "\n",
    "plt.plot(e_es, e_es**power * (2.*dphi_de_e_dampe_pt(e_es, d=0.2, bg_dflux=bg_alt) + bg_alt(e_es)),\n",
    "         label=r\"DM + alt. bg, $d$=0.2 kpc\")\n",
    "\n",
    "plt.plot(e_es, e_es**power * (2.*dphi_de_e_dampe_pt(e_es, d=d_max_bg_dampe, bg_dflux=bg_dampe) + bg_dampe(e_es)),\n",
    "         label=r\"DM + bg, $d$=%.3f kpc\" % d_max_bg_dampe)\n",
    "\n",
    "plt.plot(e_es, e_es**power * (2.*dphi_de_e_dampe_pt(e_es, d=d_max_bg_alt, bg_dflux=bg_alt) + bg_alt(e_es)),\n",
    "         label=r\"DM + alt. bg, $d$=%.3f kpc\" % d_max_bg_alt)\n",
    "\n",
    "plt.title(r\"$\\bar{\\chi}\\chi\\to e^+ e^-$ fit to DAMPE excess\")\n",
    "plt.xlabel(r\"$E$ (GeV)\")\n",
    "plt.ylabel(r\"$E^3 \\frac{d\\phi}{dE}|_{e^- + e^+}$ (GeV$^2$ cm$^{-2}$ s$^{-1}$ sr$^{-1}$)\")\n",
    "plt.xscale(\"log\")\n",
    "plt.yscale(\"log\")\n",
    "plt.xlim(e_es[[0, -1]])\n",
    "plt.ylim(4e-3, 5e-2)\n",
    "plt.legend(loc=\"upper left\")\n",
    "\n",
    "plt.tight_layout()\n",
    "plt.savefig(\"../figures/electron_positron_diff_fluxes.png\")"
   ]
  },
  {
   "cell_type": "markdown",
   "metadata": {
    "heading_collapsed": true,
    "hidden": true
   },
   "source": [
    "#### Integrated flux"
   ]
  },
  {
   "cell_type": "code",
   "execution_count": null,
   "metadata": {
    "collapsed": true,
    "hidden": true
   },
   "outputs": [],
   "source": [
    "def dm_bg_ifluxes(d, bg_dflux):\n",
    "    # Compute integrated DM + bg flux in each of DAMPE's bins\n",
    "    ifluxes = []\n",
    "\n",
    "    for (bl, br), dflux, dflux_err in zip(dampe_bins, dampe_dflux, dampe_dflux_err):\n",
    "        # Get flux from DM annihilations in the bin\n",
    "        iflux = quad(lambda e: 2.*dphi_de_e_dampe_pt(e, d, bg_dflux) + bg_dflux(e), bl, br, epsabs=0.)[0]\n",
    "        ifluxes.append(iflux)\n",
    "        \n",
    "    return np.array(ifluxes)"
   ]
  },
  {
   "cell_type": "code",
   "execution_count": null,
   "metadata": {
    "collapsed": true,
    "hidden": true
   },
   "outputs": [],
   "source": [
    "ifluxes_bg_dampe = dm_bg_ifluxes(0.2, bg_dampe)\n",
    "ifluxes_bg_alt = dm_bg_ifluxes(0.2, bg_alt)"
   ]
  },
  {
   "cell_type": "code",
   "execution_count": null,
   "metadata": {
    "collapsed": true,
    "hidden": true
   },
   "outputs": [],
   "source": [
    "plt.figure(figsize=(5, 3.5))\n",
    "\n",
    "mx = 1500.  # best-fit DM mass for DAMPE excess (arXiv:1712.02744)\n",
    "\n",
    "e_es = np.logspace(np.log10(5e2), np.log10(6e3), 400)\n",
    "\n",
    "power = 3\n",
    "\n",
    "# Observations\n",
    "plot_obs(dampe_bin_low, dampe_bin_high,\n",
    "         dampe_es**power * dampe_dflux,\n",
    "         dampe_es**power * 3.*dampe_dflux_err,\n",
    "         label=\"DAMPE\", alpha=0.5, lw=0.5, color=\"g\")\n",
    "\n",
    "plt.plot(dampe_es, dampe_es**power * ifluxes_bg_dampe / (dampe_bin_high - dampe_bin_low), '.', label=r\"DM + bg, $d$=0.2 kpc\", linewidth=1.)\n",
    "plt.plot(dampe_es, dampe_es**power * ifluxes_bg_alt / (dampe_bin_high - dampe_bin_low), '.', label=r\"DM + alt. bg, $d$=0.2 kpc\", linewidth=1.)\n",
    "\n",
    "plt.title(r\"$\\bar{\\chi}\\chi\\to e^+ e^-$ fit to DAMPE excess\")\n",
    "plt.xlabel(r\"$E$ (GeV)\")\n",
    "plt.ylabel(r\"$E^3 \\frac{d\\phi}{dE}|_{e^- + e^+}$ (GeV$^2$ cm$^{-2}$ s$^{-1}$ sr$^{-1}$)\")\n",
    "plt.xscale(\"log\")\n",
    "plt.yscale(\"log\")\n",
    "# plt.xlim(e_es[[0, -1]])\n",
    "plt.xlim(400, 5000)\n",
    "# plt.ylim(0, 5e-2)\n",
    "# plt.ylim(1e-14, 2e-10)\n",
    "plt.ylim(1e-3, 5e-2)\n",
    "plt.legend(loc=\"lower left\")\n",
    "\n",
    "plt.tight_layout()\n",
    "# plt.savefig(\"../figures/electron_positron_diff_fluxes.pdf\")"
   ]
  },
  {
   "cell_type": "markdown",
   "metadata": {},
   "source": [
    "### Photon spectrum constraints"
   ]
  },
  {
   "cell_type": "markdown",
   "metadata": {},
   "source": [
    "#### Differential photon flux at $E_\\gamma = 10$ GeV"
   ]
  },
  {
   "cell_type": "code",
   "execution_count": 131,
   "metadata": {},
   "outputs": [
    {
     "name": "stderr",
     "output_type": "stream",
     "text": [
      "/Users/acoogan/.pyenv/versions/2.7.13/Python.framework/Versions/2.7/lib/python2.7/site-packages/ipykernel_launcher.py:9: RuntimeWarning: divide by zero encountered in double_scalars\n",
      "  if __name__ == '__main__':\n"
     ]
    },
    {
     "data": {
      "image/png": "[encoded data removed]",
      "text/plain": [
       "<Figure size 750x437.5 with 1 Axes>"
      ]
     },
     "metadata": {},
     "output_type": "display_data"
    }
   ],
   "source": [
    "plt.figure(figsize=(6, 3.5))\n",
    "\n",
    "ds = np.logspace(-2, np.log10(30), 100)\n",
    "\n",
    "plt.plot(ds, [dphi_de_gamma_dampe_pt(10, d, bg_dampe) for d in ds], color=get_color(\"bg_dampe\"), label=\"DM (bg)\")\n",
    "plt.plot(ds, [dphi_de_gamma_dampe_pt(10, d, bg_alt) for d in ds],\n",
    "         color=get_color(\"bg_alt\"), label=\"DM (alt. bg)\")\n",
    "# Plot Fermi point source sensitivity\n",
    "plt.axhline(3e-11, color='r', linestyle='--', label=\"Fermi (high-lat.)\")\n",
    "plt.axhline(1e-10, color='m', linestyle='--', label=\"Fermi (Galactic plane)\")\n",
    "plt.axvline(0.385, linestyle='--', color=get_color(\"bg_dampe\"),\n",
    "            label=\"Max. dist. (bg)\")\n",
    "plt.axvline(0.597, linestyle='--', color=get_color(\"bg_alt\"),\n",
    "            label=\"Max. dist. (alt. bg)\")\n",
    "\n",
    "plt.title(r\"$\\bar{\\chi}\\chi\\to e^+ e^-$ fit to DAMPE excess\")\n",
    "plt.xlabel(r\"$d$ (kpc)\")\n",
    "plt.ylabel(r\"$\\frac{d\\phi}{dE}|_\\gamma(10~\\mathrm{GeV})$ (cm$^{-2}$ s$^{-1}$ GeV$^{-1}$)\")\n",
    "plt.xlim(ds[[0, -1]])\n",
    "plt.ylim([1e-13, 1e-8])\n",
    "plt.xscale(\"log\")\n",
    "plt.yscale(\"log\")\n",
    "\n",
    "# Shrink current axis by 20%\n",
    "box = plt.gca().get_position()\n",
    "plt.gca().set_position([box.x0, box.y0, box.width * 0.8, box.height])\n",
    "\n",
    "# Put a legend to the right of the current axis\n",
    "plt.gca().legend(loc='center left', bbox_to_anchor=(1, 0.5))\n",
    "\n",
    "plt.tight_layout()\n",
    "# plt.savefig(\"../figures/dampe_ptlike_clump_photon_diff_flux.pdf\")"
   ]
  },
  {
   "cell_type": "markdown",
   "metadata": {
    "heading_collapsed": true
   },
   "source": [
    "#### Integrated photon flux"
   ]
  },
  {
   "cell_type": "code",
   "execution_count": 19,
   "metadata": {
    "hidden": true
   },
   "outputs": [
    {
     "name": "stderr",
     "output_type": "stream",
     "text": [
      "/Users/acoogan/.pyenv/versions/2.7.13/Python.framework/Versions/2.7/lib/python2.7/site-packages/ipykernel_launcher.py:14: RuntimeWarning: divide by zero encountered in double_scalars\n",
      "  \n",
      "/Users/acoogan/.pyenv/versions/2.7.13/Python.framework/Versions/2.7/lib/python2.7/site-packages/ipykernel_launcher.py:12: RuntimeWarning: divide by zero encountered in double_scalars\n",
      "  if sys.path[0] == '':\n",
      "/Users/acoogan/.pyenv/versions/2.7.13/Python.framework/Versions/2.7/lib/python2.7/site-packages/ipykernel_launcher.py:12: RuntimeWarning: invalid value encountered in double_scalars\n",
      "  if sys.path[0] == '':\n"
     ]
    },
    {
     "data": {
      "image/png": "[encoded data removed]",
      "text/plain": [
       "<Figure size 625x437.5 with 1 Axes>"
      ]
     },
     "metadata": {},
     "output_type": "display_data"
    }
   ],
   "source": [
    "plt.figure(figsize=(5, 3.5))\n",
    "\n",
    "ds = np.logspace(-2, np.log10(50), 100)\n",
    "\n",
    "plt.plot(ds, [phi_gamma_dampe_pt(d) for d in ds])\n",
    "# Plot Fermi point source sensitivity\n",
    "plt.axhline(3e-9, color='r', linestyle='--', label=\"Fermi\")\n",
    "plt.axvline(1.06, linestyle='--', color='k', label=\"Max. dist.\")\n",
    "\n",
    "plt.title(r\"$\\bar{\\chi}\\chi\\to e^+ e^-$ fit to DAMPE excess\")\n",
    "plt.xlabel(r\"$d$ (kpc)\")\n",
    "plt.ylabel(r\"$\\phi(0.1~\\mathrm{GeV}, m_\\chi)$ (cm$^{-2}$ s$^{-1}$)\")\n",
    "plt.xlim(ds[[0, -1]])\n",
    "plt.ylim([1e-10, 1e-7])\n",
    "plt.xscale(\"log\")\n",
    "plt.yscale(\"log\")\n",
    "plt.legend()\n",
    "\n",
    "plt.tight_layout()\n",
    "plt.savefig(\"../figures/dampe_ptlike_clump_photon_flux.pdf\")"
   ]
  },
  {
   "cell_type": "markdown",
   "metadata": {
    "heading_collapsed": true
   },
   "source": [
    "### Anisotropy\n",
    "This constraint is much weaker than the others."
   ]
  },
  {
   "cell_type": "code",
   "execution_count": 21,
   "metadata": {
    "hidden": true
   },
   "outputs": [
    {
     "name": "stderr",
     "output_type": "stream",
     "text": [
      "/Users/acoogan/.pyenv/versions/2.7.13/Python.framework/Versions/2.7/lib/python2.7/site-packages/ipykernel_launcher.py:14: RuntimeWarning: divide by zero encountered in double_scalars\n",
      "  \n",
      "/Users/acoogan/.pyenv/versions/2.7.13/Python.framework/Versions/2.7/lib/python2.7/site-packages/ipykernel_launcher.py:12: RuntimeWarning: divide by zero encountered in double_scalars\n",
      "  if sys.path[0] == '':\n",
      "/Users/acoogan/.pyenv/versions/2.7.13/Python.framework/Versions/2.7/lib/python2.7/site-packages/ipykernel_launcher.py:12: RuntimeWarning: invalid value encountered in double_scalars\n",
      "  if sys.path[0] == '':\n"
     ]
    },
    {
     "data": {
      "image/png": "[encoded data removed]",
      "text/plain": [
       "<Figure size 625x437.5 with 1 Axes>"
      ]
     },
     "metadata": {},
     "output_type": "display_data"
    }
   ],
   "source": [
    "plt.figure(figsize=(5, 3.5))\n",
    "\n",
    "ds = np.logspace(-2, np.log10(50), 100)\n",
    "\n",
    "plt.plot(ds, [get_dampe_anisotropy_pt(d) for d in ds], label=\"DM\")\n",
    "plt.axhline(ams_aniso_bound, color='r', linestyle=\"--\", label=\"AMS-02 bound\")\n",
    "plt.axvline(d_max, linestyle='--', color='k', label=\"Max. dist.\")\n",
    "\n",
    "plt.title(r\"$\\bar{\\chi}\\chi\\to e^+ e^-$ fit to DAMPE excess\")\n",
    "plt.xlabel(r\"$d$ (kpc)\")\n",
    "plt.ylabel(r\"$\\Delta$\")\n",
    "plt.xscale(\"log\")\n",
    "plt.yscale(\"log\")\n",
    "plt.xlim(ds[[0, -1]])\n",
    "plt.ylim(1e-6, 1e0)\n",
    "plt.legend()\n",
    "\n",
    "plt.tight_layout()\n",
    "plt.savefig(\"../figures/anisotropy.pdf\")"
   ]
  },
  {
   "cell_type": "markdown",
   "metadata": {
    "heading_collapsed": true
   },
   "source": [
    "### Best fit $m_\\chi$ and $\\mathcal{L}$"
   ]
  },
  {
   "cell_type": "code",
   "execution_count": null,
   "metadata": {
    "collapsed": true,
    "hidden": true
   },
   "outputs": [],
   "source": [
    "ds = np.logspace(-2, np.log10(3), 100)\n",
    "\n",
    "mxs_best = np.zeros(len(ds))\n",
    "lums_best = np.zeros(len(ds))\n",
    "\n",
    "for i, d in enumerate(ds):\n",
    "    mxs_best[i], lums_best[i] = mx_lum_dampe_pt(d)"
   ]
  },
  {
   "cell_type": "code",
   "execution_count": null,
   "metadata": {
    "collapsed": true,
    "hidden": true
   },
   "outputs": [],
   "source": [
    "plt.figure(figsize=(9, 3.5))\n",
    "\n",
    "plt.subplot(1, 2, 1)\n",
    "plt.loglog(ds, mxs_best)\n",
    "plt.xlabel(r\"$d$ (kpc)\")\n",
    "plt.ylabel(r\"$m_\\chi$ (GeV)\")\n",
    "\n",
    "plt.subplot(1, 2, 2)\n",
    "plt.loglog(ds, lums_best)\n",
    "plt.xlabel(r\"$d$ (kpc)\")\n",
    "plt.ylabel(r\"$\\mathcal{L}$ (s$^{-1}$)\")"
   ]
  },
  {
   "cell_type": "markdown",
   "metadata": {
    "collapsed": true
   },
   "source": [
    "## Results for finite clump"
   ]
  },
  {
   "cell_type": "markdown",
   "metadata": {},
   "source": [
    "### $\\bar{\\chi}\\chi \\to e^+ e^-$ spectrum"
   ]
  },
  {
   "cell_type": "code",
   "execution_count": 135,
   "metadata": {
    "collapsed": true
   },
   "outputs": [],
   "source": [
    "# Dict for differential fluxes for finite clumps. Keys are:\n",
    "#    Clump distance d (kpc)\n",
    "#    Clump scale radius rs (kpc)\n",
    "#    Background model (string)\n",
    "finite_clump_dfluxes = {}"
   ]
  },
  {
   "cell_type": "code",
   "execution_count": 136,
   "metadata": {
    "collapsed": true
   },
   "outputs": [],
   "source": [
    "clump_params = [(0.01, 0.1, bg_dampe),\n",
    "                (0.2, 0.1, bg_dampe)]"
   ]
  },
  {
   "cell_type": "markdown",
   "metadata": {},
   "source": [
    "#### Differential flux"
   ]
  },
  {
   "cell_type": "code",
   "execution_count": 201,
   "metadata": {
    "collapsed": true
   },
   "outputs": [],
   "source": [
    "e_es = np.logspace(np.log10(8e2), np.log10(2e3), 300)"
   ]
  },
  {
   "cell_type": "code",
   "execution_count": 202,
   "metadata": {
    "collapsed": true
   },
   "outputs": [],
   "source": [
    "for d, rs, bg in clump_params:\n",
    "    finite_clump_dfluxes[(d, rs, bg.__name__)] = dphi_de_e_dampe(e_es, d, rs, bg)"
   ]
  },
  {
   "cell_type": "markdown",
   "metadata": {},
   "source": [
    "DAMPE's bg model. Using Ge et al's bg model simply changes the normalizations of the spectra."
   ]
  },
  {
   "cell_type": "code",
   "execution_count": 216,
   "metadata": {},
   "outputs": [
    {
     "data": {
      "image/png": "[encoded data removed]",
      "text/plain": [
       "<Figure size 625x437.5 with 1 Axes>"
      ]
     },
     "metadata": {},
     "output_type": "display_data"
    }
   ],
   "source": [
    "plt.figure(figsize=(5, 3.5))\n",
    "\n",
    "power = 3\n",
    "\n",
    "plot_obs(power)    \n",
    "plt.plot(e_es, e_es**power * bg(e_es), 'k', label=\"Bg only\")\n",
    "\n",
    "# DM spec + bg, clump\n",
    "for (d, rs, bg), c in zip(clump_params, colors):\n",
    "    plt.plot(e_es, e_es**power * (2.*finite_clump_dfluxes[(d, rs, bg.__name__)]),\n",
    "             label=r\"DM (cl), $d$=%.2f kpc\" % d, color=c)\n",
    "\n",
    "# DM spec + bg, pointlike source\n",
    "for (d, rs, bg), c in zip(clump_params, colors):\n",
    "    plt.plot(e_es, e_es**power * (2.*dphi_de_e_dampe_pt(e_es, d, bg)),\n",
    "             '--', label=r\"DM (pt), $d$=%.2f kpc\" % d, color=c)\n",
    "\n",
    "plt.title(r\"$r_s=0.1$ kpc, DAMPE bg model\")\n",
    "plt.xlabel(r\"$E$ (GeV)\")\n",
    "plt.ylabel(y_label % (power, power-1))\n",
    "plt.yscale(\"log\")\n",
    "plt.xlim(1e3, 1.6e3)\n",
    "plt.ylim(6e-5, 2e0)\n",
    "plt.legend(loc=\"upper left\")\n",
    "\n",
    "plt.tight_layout()\n",
    "# plt.savefig(\"../figures/electron_positron_diff_fluxes_clump_vs_pt.png\")"
   ]
  },
  {
   "cell_type": "markdown",
   "metadata": {},
   "source": [
    "### Photon spectrum"
   ]
  },
  {
   "cell_type": "code",
   "execution_count": null,
   "metadata": {
    "collapsed": true
   },
   "outputs": [],
   "source": [
    "plt.figure(figsize=(6, 3.5))\n",
    "\n",
    "ds = np.logspace(-2, np.log10(100), 2)\n",
    "\n",
    "plt.plot(ds, [dphi_de_gamma_dampe(10, np.cos(np.pi), d, 0.01, bg_dampe) for d in ds],\n",
    "         color=get_color(\"bg_dampe\"), label=\"DM cl (bg)\")\n",
    "plt.plot(ds, [dphi_de_gamma_dampe_pt(10, d, bg_dampe) for d in ds], '--',\n",
    "         color=get_color(\"bg_dampe\"), label=\"DM pt (bg)\")\n",
    "# Plot Fermi point source sensitivity\n",
    "plt.axhline(3e-11, color='r', linestyle='--', label=\"Fermi (high-lat.)\")\n",
    "plt.axhline(1e-10, color='m', linestyle='--', label=\"Fermi (Galactic plane)\")\n",
    "\n",
    "plt.title(r\"$\\bar{\\chi}\\chi\\to e^+ e^-$ fit to DAMPE excess\")\n",
    "plt.xlabel(r\"$d$ (kpc)\")\n",
    "plt.ylabel(r\"$\\frac{d\\phi}{dE}|_\\gamma(10~\\mathrm{GeV})$ (cm$^{-2}$ s$^{-1}$ GeV$^{-1}$)\")\n",
    "plt.xlim(ds[[0, -1]])\n",
    "plt.ylim([1e-13, 1e-8])\n",
    "plt.xscale(\"log\")\n",
    "plt.yscale(\"log\")\n",
    "\n",
    "# Shrink current axis by 20%\n",
    "box = plt.gca().get_position()\n",
    "plt.gca().set_position([box.x0, box.y0, box.width * 0.8, box.height])\n",
    "\n",
    "# Put a legend to the right of the current axis\n",
    "plt.gca().legend(loc='center left', bbox_to_anchor=(1, 0.5))\n",
    "\n",
    "plt.tight_layout()\n",
    "# plt.savefig(\"../figures/dampe_ptlike_clump_photon_diff_flux.pdf\")"
   ]
  },
  {
   "cell_type": "markdown",
   "metadata": {
    "heading_collapsed": true
   },
   "source": [
    "### Clump profile density normalization\n",
    "Can't make this in the pointlike case, obviously."
   ]
  },
  {
   "cell_type": "code",
   "execution_count": 35,
   "metadata": {
    "collapsed": true,
    "hidden": true
   },
   "outputs": [],
   "source": [
    "ds = np.logspace(-2, 0, 100)"
   ]
  },
  {
   "cell_type": "code",
   "execution_count": 36,
   "metadata": {
    "collapsed": true,
    "hidden": true
   },
   "outputs": [],
   "source": [
    "rhos_bg_dampe = np.array([rhos_dampe(d, dampe_excess_bin_high, 0.1, bg_dampe) for d in ds])"
   ]
  },
  {
   "cell_type": "code",
   "execution_count": 37,
   "metadata": {
    "hidden": true
   },
   "outputs": [
    {
     "ename": "NameError",
     "evalue": "name 'bg_altlt' is not defined",
     "output_type": "error",
     "traceback": [
      "\u001b[0;31m\u001b[0m",
      "\u001b[0;31mNameError\u001b[0mTraceback (most recent call last)",
      "\u001b[0;32m<ipython-input-37-4df20ebdeaf4>\u001b[0m in \u001b[0;36m<module>\u001b[0;34m()\u001b[0m\n\u001b[0;32m----> 1\u001b[0;31m \u001b[0mrhos_bg_alt\u001b[0m \u001b[0;34m=\u001b[0m \u001b[0mnp\u001b[0m\u001b[0;34m.\u001b[0m\u001b[0marray\u001b[0m\u001b[0;34m(\u001b[0m\u001b[0;34m[\u001b[0m\u001b[0mrhos_dampe\u001b[0m\u001b[0;34m(\u001b[0m\u001b[0md\u001b[0m\u001b[0;34m,\u001b[0m \u001b[0mdampe_excess_bin_high\u001b[0m\u001b[0;34m,\u001b[0m \u001b[0;36m0.1\u001b[0m\u001b[0;34m,\u001b[0m \u001b[0mbg_altlt\u001b[0m\u001b[0;34m)\u001b[0m \u001b[0;32mfor\u001b[0m \u001b[0md\u001b[0m \u001b[0;32min\u001b[0m \u001b[0mds\u001b[0m\u001b[0;34m]\u001b[0m\u001b[0;34m)\u001b[0m\u001b[0;34m\u001b[0m\u001b[0m\n\u001b[0m",
      "\u001b[0;31mNameError\u001b[0m: name 'bg_altlt' is not defined"
     ]
    }
   ],
   "source": [
    "rhos_bg_alt = np.array([rhos_dampe(d, dampe_excess_bin_high, 0.1, bg_alt) for d in ds])"
   ]
  },
  {
   "cell_type": "code",
   "execution_count": 38,
   "metadata": {
    "hidden": true
   },
   "outputs": [
    {
     "data": {
      "text/plain": [
       "<matplotlib.legend.Legend at 0x1078fee10>"
      ]
     },
     "execution_count": 38,
     "metadata": {},
     "output_type": "execute_result"
    },
    {
     "data": {
      "image/png": "[encoded data removed]",
      "text/plain": [
       "<Figure size 625x437.5 with 1 Axes>"
      ]
     },
     "metadata": {},
     "output_type": "display_data"
    }
   ],
   "source": [
    "ds = np.logspace(-2, 0, 100)\n",
    "\n",
    "plt.plot(ds, rhos_bg_dampe, label=\"DAMPE bg\")\n",
    "# plt.plot(ds, rhos_bg_alt, label=\"Ge et al bg\")\n",
    "\n",
    "plt.title(r\"$r_s = 0.1$ kpc, DAMPE bg model\")\n",
    "plt.xlabel(r\"$d$ (kpc)\")\n",
    "plt.ylabel(r\"$\\rho_s$ (GeV cm$^{-3}$)\")\n",
    "plt.legend()\n",
    "\n",
    "# plt.savefig(\"../figures/clump_density_normalization.png\")"
   ]
  },
  {
   "cell_type": "code",
   "execution_count": null,
   "metadata": {
    "collapsed": true,
    "hidden": true
   },
   "outputs": [],
   "source": [
    "os.system(\"say 'Done'\")"
   ]
  },
  {
   "cell_type": "code",
   "execution_count": null,
   "metadata": {
    "collapsed": true,
    "hidden": true
   },
   "outputs": [],
   "source": []
  }
 ],
 "metadata": {
  "kernelspec": {
   "display_name": "Python 2",
   "language": "python",
   "name": "python2"
  },
  "language_info": {
   "codemirror_mode": {
    "name": "ipython",
    "version": 2
   },
   "file_extension": ".py",
   "mimetype": "text/x-python",
   "name": "python",
   "nbconvert_exporter": "python",
   "pygments_lexer": "ipython2",
   "version": "2.7.13"
  },
  "toc": {
   "nav_menu": {},
   "number_sections": true,
   "sideBar": true,
   "skip_h1_title": false,
   "toc_cell": false,
   "toc_position": {
    "height": "922px",
    "left": "0px",
    "right": "886px",
    "top": "95.1px",
    "width": "26px"
   },
   "toc_section_display": "block",
   "toc_window_display": true
  }
 },
 "nbformat": 4,
 "nbformat_minor": 2
}
