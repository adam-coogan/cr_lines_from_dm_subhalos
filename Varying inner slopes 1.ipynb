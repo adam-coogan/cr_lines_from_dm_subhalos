{
 "cells": [
  {
   "cell_type": "code",
   "execution_count": 1,
   "metadata": {
    "code_folding": [
     25,
     29,
     41,
     45,
     55,
     65
    ]
   },
   "outputs": [],
   "source": [
    "###### import matplotlib.pyplot as plt\n",
    "from matplotlib.colors import LogNorm\n",
    "import numpy as np\n",
    "import os\n",
    "\n",
    "from background_models import bg_dampe, dphi_de_egb_fermi\n",
    "from constants import dampe_excess_bin_high, dampe_bins, fermi_psf\n",
    "from constants import rho_earth, Hz_to_GeV2_cm3\n",
    "from finite_clump_vectorized import rho_s_dampe, luminosity, dphi_de_g\n",
    "from finite_clump_vectorized import gamma_ray_extent, line_width_constraint\n",
    "from finite_clump_vectorized import fermi_point_src_contraint\n",
    "\n",
    "from nfw_clump import NFW_params\n",
    "from tt_clump import TT_params\n",
    "\n",
    "colors = [c[\"color\"] for c in plt.rcParams['axes.prop_cycle']]\n",
    "# Photon energy at which to compute fluxes\n",
    "e_gamma_ref = 230.\n",
    "# Flux above which Fermi should absorb the clump as an extended source\n",
    "dphi_de_g_fermi_ext = 1e-7  # (GeV cm^2 s sr)^2\n",
    "# Significance used for line width constraint\n",
    "n_sigma = 3.\n",
    "# Directory with Ben's probability data files\n",
    "pr_base_path = \"../DAMPE+DM clumps/data/likelihoods/\""
   ]
  },
  {
   "cell_type": "markdown",
   "metadata": {
    "heading_collapsed": true
   },
   "source": [
    "# NFW profile"
   ]
  },
  {
   "cell_type": "code",
   "execution_count": 3,
   "metadata": {
    "hidden": true
   },
   "outputs": [],
   "source": [
    "gamma_nfw = 0.5\n",
    "# gamma_nfw = 1.\n",
    "\n",
    "dist = np.logspace(-3, 0, 10)\n",
    "r_s = np.logspace(-3, 1, 10)\n",
    "dist_mg, r_s_mg = np.meshgrid(dist, r_s)\n",
    "\n",
    "base_path_nfw = 'data/nfw_gamma_%.1f/' % gamma_nfw"
   ]
  },
  {
   "cell_type": "markdown",
   "metadata": {
    "hidden": true
   },
   "source": [
    "## Load results"
   ]
  },
  {
   "cell_type": "code",
   "execution_count": 3,
   "metadata": {
    "hidden": true
   },
   "outputs": [],
   "source": [
    "for var in [\"dist\", \"r_s\"]:\n",
    "    exec(var + \" = np.loadtxt('\" + base_path_nfw + var + \".csv', delimiter=',')\")\n",
    "dist_mg, r_s_mg = np.meshgrid(dist, r_s)\n",
    "\n",
    "for var in [\"rho_s\", \"rho_rel\", \"lum\", \"dphi_de_g\", \"extent\", \"lw\",\n",
    "            \"rho_s_fermi_ps\", \"dphi_de_g_ext_rel\"]:\n",
    "    exec(var + \"_nfw = np.loadtxt('\" + base_path_nfw + var + \".csv', delimiter=',')\")\n",
    "\n",
    "# Load likelihoods using Ben's processing\n",
    "dist_pr, r_s_pr, pr_nfw = np.loadtxt(\n",
    "    pr_base_path + \"nfw/nfw_gamma_%.2f.csv\" % gamma_nfw,\n",
    "    delimiter=',').T\n",
    "\n",
    "dist_pr = dist_pr.reshape(len(np.unique(dist_pr)), -1)\n",
    "r_s_pr = r_s_pr.reshape(dist_pr.shape)\n",
    "pr_nfw = pr_nfw.reshape(dist_pr.shape)"
   ]
  },
  {
   "cell_type": "markdown",
   "metadata": {
    "hidden": true
   },
   "source": [
    "## Recompute"
   ]
  },
  {
   "cell_type": "markdown",
   "metadata": {
    "hidden": true
   },
   "source": [
    "### $\\rho_s$"
   ]
  },
  {
   "cell_type": "code",
   "execution_count": 15,
   "metadata": {
    "hidden": true,
    "scrolled": true
   },
   "outputs": [
    {
     "name": "stderr",
     "output_type": "stream",
     "text": [
      "/Users/acoogan/.pyenv/versions/2.7.13/lib/python2.7/site-packages/scipy/integrate/quadpack.py:385: IntegrationWarning: The integral is probably divergent, or slowly convergent.\n",
      "  warnings.warn(msg, IntegrationWarning)\n",
      "/Users/acoogan/.pyenv/versions/2.7.13/lib/python2.7/site-packages/scipy/integrate/quadpack.py:385: IntegrationWarning: The maximum number of subdivisions (50) has been achieved.\n",
      "  If increasing the limit yields no improvement it is advised to analyze \n",
      "  the integrand in order to determine the difficulties.  If the position of a \n",
      "  local difficulty can be determined (singularity, discontinuity) one will \n",
      "  probably gain from splitting up the interval and calling the integrator \n",
      "  on the subranges.  Perhaps a special-purpose integrator should be used.\n",
      "  warnings.warn(msg, IntegrationWarning)\n",
      "/Users/acoogan/.pyenv/versions/2.7.13/lib/python2.7/site-packages/scipy/integrate/quadpack.py:385: IntegrationWarning: The algorithm does not converge.  Roundoff error is detected\n",
      "  in the extrapolation table.  It is assumed that the requested tolerance\n",
      "  cannot be achieved, and that the returned result (if full_output = 1) is \n",
      "  the best which can be obtained.\n",
      "  warnings.warn(msg, IntegrationWarning)\n",
      "/Users/acoogan/.pyenv/versions/2.7.13/lib/python2.7/site-packages/scipy/integrate/quadpack.py:385: IntegrationWarning: The occurrence of roundoff error is detected, which prevents \n",
      "  the requested tolerance from being achieved.  The error may be \n",
      "  underestimated.\n",
      "  warnings.warn(msg, IntegrationWarning)\n"
     ]
    }
   ],
   "source": [
    "rho_s_nfw = rho_s_dampe(dist_mg, r_s_mg, gamma_nfw, \"nfw\")"
   ]
  },
  {
   "cell_type": "markdown",
   "metadata": {
    "hidden": true
   },
   "source": [
    "Fill `nan`s by linearly interpolating along the $r_s$ axis"
   ]
  },
  {
   "cell_type": "code",
   "execution_count": 16,
   "metadata": {
    "hidden": true
   },
   "outputs": [],
   "source": [
    "from scipy.interpolate import interp1d\n",
    "\n",
    "for i in range(3):\n",
    "    obs_idx = np.where(~np.isnan(rho_s_nfw[:, i]))[0]\n",
    "    interp = interp1d(np.log(r_s[obs_idx]), np.log(rho_s_nfw[obs_idx, i]), fill_value=\"extrapolate\")\n",
    "    \n",
    "    nan_idx = np.where(np.isnan(rho_s_nfw[:, i]))[0]\n",
    "    rho_s_nfw[nan_idx, i] = np.exp(interp(np.log(r_s[nan_idx])))"
   ]
  },
  {
   "cell_type": "markdown",
   "metadata": {
    "hidden": true
   },
   "source": [
    "### $\\frac{\\rho_s + \\rho_\\oplus}{\\rho_\\oplus}$"
   ]
  },
  {
   "cell_type": "code",
   "execution_count": 17,
   "metadata": {
    "hidden": true
   },
   "outputs": [],
   "source": [
    "rho_rel_nfw = (rho_s_nfw + rho_earth) / rho_earth"
   ]
  },
  {
   "cell_type": "markdown",
   "metadata": {
    "hidden": true
   },
   "source": [
    "### $\\mathcal{L}$"
   ]
  },
  {
   "cell_type": "code",
   "execution_count": 18,
   "metadata": {
    "hidden": true
   },
   "outputs": [],
   "source": [
    "lum_nfw = luminosity(r_s_mg, rho_s_nfw, gamma_nfw, \"nfw\")"
   ]
  },
  {
   "cell_type": "markdown",
   "metadata": {
    "hidden": true
   },
   "source": [
    "### $\\frac{d\\phi_\\gamma}{d E_\\gamma} (E_\\gamma = 230$ GeV)"
   ]
  },
  {
   "cell_type": "code",
   "execution_count": 19,
   "metadata": {
    "hidden": true
   },
   "outputs": [],
   "source": [
    "dphi_de_g_nfw = dphi_de_g(e_gamma_ref, dist_mg, r_s_mg, rho_s_nfw,\n",
    "                          gamma_nfw, \"nfw\", fermi_psf)"
   ]
  },
  {
   "cell_type": "markdown",
   "metadata": {
    "hidden": true
   },
   "source": [
    "### $\\frac{\\theta_{68\\%}}{\\theta_{\\mathrm{Fermi}}}$"
   ]
  },
  {
   "cell_type": "code",
   "execution_count": 20,
   "metadata": {
    "hidden": true
   },
   "outputs": [
    {
     "name": "stderr",
     "output_type": "stream",
     "text": [
      "/Users/acoogan/.pyenv/versions/2.7.13/lib/python2.7/site-packages/numpy/lib/function_base.py:2048: RuntimeWarning: invalid value encountered in _J_factor (vectorized)\n",
      "  outputs = ufunc(*inputs)\n"
     ]
    }
   ],
   "source": [
    "extent_nfw = gamma_ray_extent(dist_mg, r_s_mg, rho_s_nfw, gamma_nfw, \"nfw\",\n",
    "                              e_gamma_ref, thresh=0.68)"
   ]
  },
  {
   "cell_type": "markdown",
   "metadata": {
    "hidden": true
   },
   "source": [
    "### Line width constraint"
   ]
  },
  {
   "cell_type": "code",
   "execution_count": null,
   "metadata": {
    "hidden": true
   },
   "outputs": [],
   "source": [
    "lw_nfw = line_width_constraint(dist_mg, r_s_mg, rho_s_nfw, gamma_nfw, \"nfw\", n_sigma)"
   ]
  },
  {
   "cell_type": "markdown",
   "metadata": {
    "hidden": true
   },
   "source": [
    "### Fermi point source non-detection constraint"
   ]
  },
  {
   "cell_type": "code",
   "execution_count": null,
   "metadata": {
    "hidden": true
   },
   "outputs": [],
   "source": [
    "rho_s_fermi_ps_nfw = fermi_point_src_contraint(dist_mg, r_s_mg, gamma_nfw, \"nfw\")"
   ]
  },
  {
   "cell_type": "markdown",
   "metadata": {
    "hidden": true
   },
   "source": [
    "### Comparison with Fermi EGB\n",
    "Determine flux from $1^\\circ$ observing region around clump relative to the Fermi EGB model. Since spectrum is harder than background model, set $E_\\gamma \\approx 1.5$ TeV."
   ]
  },
  {
   "cell_type": "code",
   "execution_count": null,
   "metadata": {
    "hidden": true
   },
   "outputs": [],
   "source": [
    "th_ref = 1. * np.pi / 180  # 1 degree\n",
    "dphi_de_g_ext_nfw = dphi_de_g(0.99*dampe_excess_bin_high, dist_mg, r_s_mg,\n",
    "                              rho_s_nfw, gamma_nfw, \"nfw\", th_ref)\n",
    "dphi_de_g_ext_rel_nfw = dphi_de_g_ext_nfw / dphi_de_egb_fermi(dampe_excess_bin_high)"
   ]
  },
  {
   "cell_type": "markdown",
   "metadata": {
    "heading_collapsed": true,
    "hidden": true
   },
   "source": [
    "#### Comparing definitions of the constraint"
   ]
  },
  {
   "cell_type": "code",
   "execution_count": 20,
   "metadata": {
    "hidden": true
   },
   "outputs": [],
   "source": [
    "def dphi_de_g_bubbles(es):\n",
    "    def _helper(e):\n",
    "        if e < 500:\n",
    "            I = 6e-9\n",
    "            alpha = 1.77\n",
    "            beta= 0.063\n",
    "\n",
    "            return I * (e / 10)**(-alpha - beta * np.log(e))\n",
    "        else:\n",
    "            return 0.\n",
    "    return np.vectorize(_helper)(es)"
   ]
  },
  {
   "cell_type": "code",
   "execution_count": 27,
   "metadata": {
    "hidden": true
   },
   "outputs": [],
   "source": [
    "e_gs_cyg = np.logspace(9, 11, 6) / 1e9\n",
    "dphi_de_g_cyg = np.array(6 * [10**(-4.25) / (1e3 * 0.7 * 2*np.pi)]) / e_gs_cyg"
   ]
  },
  {
   "cell_type": "code",
   "execution_count": 36,
   "metadata": {
    "hidden": true
   },
   "outputs": [
    {
     "data": {
      "text/plain": [
       "<matplotlib.legend.Legend at 0x123baddd8>"
      ]
     },
     "execution_count": 36,
     "metadata": {},
     "output_type": "execute_result"
    },
    {
     "data": {
      "image/png": "[encoded data removed]",
      "text/plain": [
       "<Figure size 432x288 with 1 Axes>"
      ]
     },
     "metadata": {
      "image/png": {
       "height": 263,
       "width": 397
      },
      "needs_background": "light"
     },
     "output_type": "display_data"
    }
   ],
   "source": [
    "e_gs = np.logspace(-1, np.log10(3e3), 100)\n",
    "\n",
    "plt.loglog(e_gs, dphi_de_g(e_gs, 1e-2, 1e-2, 1e3, gamma_nfw, \"nfw\", 1*np.pi/180),\n",
    "           label=\"Clump\", linewidth=2)\n",
    "plt.loglog(e_gs, dphi_de_g_bubbles(e_gs), label=\"Bubbles\")\n",
    "plt.loglog(e_gs, dphi_de_egb_fermi(e_gs), '--', label=\"EGB\")\n",
    "plt.loglog(e_gs_cyg, dphi_de_g_cyg, '.', label=\"Cygnus X-1 (?)\")\n",
    "plt.axhline(1e-7, color='k', linestyle=':')\n",
    "\n",
    "plt.autoscale(tight=True)\n",
    "plt.ylim(1e-16, 2e-4)\n",
    "plt.xlabel(r\"$E_\\gamma$ (GeV)\")\n",
    "plt.ylabel(r\"$\\phi_\\gamma$ (GeV$^{-1}$ cm$^{-2}$ s$^{-1}$ sr$^{-1}$)\")\n",
    "plt.legend()"
   ]
  },
  {
   "cell_type": "markdown",
   "metadata": {
    "hidden": true
   },
   "source": [
    "## Save results"
   ]
  },
  {
   "cell_type": "code",
   "execution_count": null,
   "metadata": {
    "hidden": true
   },
   "outputs": [],
   "source": [
    "for var in [\"dist\", \"r_s\"]:\n",
    "    np.savetxt(base_path_nfw + var + \".csv\", eval(var), delimiter=',')\n",
    "\n",
    "for var in [\"rho_s\", \"rho_rel\", \"lum\", \"dphi_de_g\", \"extent\", \"lw\",\n",
    "            \"rho_s_fermi_ps\", \"dphi_de_g_ext_rel\"]:\n",
    "    np.savetxt(base_path_nfw + var + \".csv\", eval(var + \"_nfw\"), delimiter=',')"
   ]
  },
  {
   "cell_type": "markdown",
   "metadata": {
    "heading_collapsed": true,
    "hidden": true
   },
   "source": [
    "## Plot everything together"
   ]
  },
  {
   "cell_type": "code",
   "execution_count": null,
   "metadata": {
    "hidden": true
   },
   "outputs": [],
   "source": [
    "levels_nfw = {\"lum\": [4e48, 1e49, 3e49, 1e50, 3e50, 1e51, 3e51, 3e52, 4e54],\n",
    "              \"rho_s\": [1e-2, 0.1, 1, 10, 1e2, 1e3, 1e4],\n",
    "              \"dphi_de_g\": [5e-17, 1e-16, 3e-16, 1e-15, 3e-15, 1e-14, 3e-14, 1e-13, 1e-12, 1e-10, 1e-8],\n",
    "              \"rho_rel\": [2, 3, 10, 30, 100, 300, 1e3, 3e3, 3e4],\n",
    "              \"extent\": [2, 5, 10, 20, 50, 100, 200, 300, 400, 450, 500, 550]}"
   ]
  },
  {
   "cell_type": "code",
   "execution_count": null,
   "metadata": {
    "hidden": true
   },
   "outputs": [],
   "source": [
    "fig, axs = plt.subplots(nrows=3, ncols=2, sharex=True, sharey=True,\n",
    "                        figsize=(8, 10))\n",
    "\n",
    "if gamma_nfw == 1:\n",
    "    fig.suptitle(r\"$\\gamma_{\\mathrm{NFW}} = \" + \"{:.0f}\".format(gamma_nfw) + r\"$\")\n",
    "elif gamma_nfw == 0.5:\n",
    "    fig.suptitle(r\"$\\gamma_{\\mathrm{NFW}} = \" + \"{:.1f}\".format(gamma_nfw) + r\"$\")\n",
    "\n",
    "for ax in axs.flatten():\n",
    "    ax.set_xlabel(r\"$d$ (kpc)\")\n",
    "    ax.set_ylabel(r\"$r_s$ (kpc)\")\n",
    "    # Line width constraint\n",
    "    ax.contourf(dist, r_s, lw_nfw, levels=[n_sigma, np.max(lw_nfw)],\n",
    "                colors='k', alpha=0.2)\n",
    "    # Point source constraint\n",
    "    ax.contourf(dist, r_s, rho_s_fermi_ps_nfw - rho_s_nfw, levels=[-1e100, 0],\n",
    "                colors=[colors[1]], alpha=0.2)\n",
    "    # Extended source vs EGB\n",
    "    ax.contourf(dist, r_s, dphi_de_g_ext_rel_nfw, levels=[1e1, 1e100],\n",
    "                colors=[colors[8]], alpha=0.2)\n",
    "\n",
    "ax = axs[0, 0]\n",
    "# Must be done before plotting to get label formatting right.\n",
    "# Only need to do this for one subplot.\n",
    "ax.set_xscale('log')\n",
    "ax.set_yscale('log')\n",
    "ax.set_xlim(dist[[0, -1]])\n",
    "ax.set_ylim(r_s[[0, -1]])\n",
    "ax.set_title(r\"$L$ (GeV$^2$/cm$^3$)\", pad=10)\n",
    "sci_contours(dist, r_s, lum_nfw*Hz_to_GeV2_cm3, ax, levels=levels_nfw[\"lum\"])\n",
    "\n",
    "ax = axs[0, 1]\n",
    "ax.set_title(r\"$\\rho_s$ (GeV/cm$^3$)\", pad=10)\n",
    "sci_contours(dist, r_s, rho_s_nfw, ax, levels=levels_nfw[\"rho_s\"])\n",
    "\n",
    "ax = axs[1, 0]\n",
    "ax.set_title(r\"$\\phi_\\gamma(230\\ \\mathrm{GeV})$\"\n",
    "             r\" (GeV cm$^2$ s sr)$^{-1}$\", pad=10)\n",
    "sci_contours(dist, r_s, dphi_de_g_nfw, ax, levels=levels_nfw[\"dphi_de_g\"])\n",
    "\n",
    "ax = axs[1, 1]\n",
    "ax.set_title(r\"$\\frac{\\rho_{\\mathrm{NFW}}(d) +\"\n",
    "             r\"\\rho_\\oplus}{\\rho_\\oplus}$\", pad=10)\n",
    "normal_contours(dist, r_s, rho_rel_nfw, ax, levels=levels_nfw[\"rho_rel\"])\n",
    "\n",
    "ax = axs[2, 0]\n",
    "ax.set_title(r\"$\\frac{\\theta_{68\\%}(230\\ \\mathrm{GeV})}{\\theta_{\\rm PSF}}$\", pad=10)\n",
    "normal_contours(dist, r_s, extent_nfw/fermi_psf, ax, levels=levels_nfw[\"extent\"])\n",
    "\n",
    "ax = axs[2, 1]\n",
    "ax.set_title(r\"$p_{N {\\rm -body}}$\", pad=10)\n",
    "# if gamma_nfw == 0.5:\n",
    "#     sci_contours(dist_pr, r_s_pr, pr_nfw, ax, levels=np.logspace(-15, -12, 4))\n",
    "# elif gamma_nfw == 1:\n",
    "#     sci_contours(dist_pr, r_s_pr, pr_nfw, ax, levels=np.logspace(-13, -7, 7))\n",
    "\n",
    "\n",
    "fig.tight_layout(rect=[0, 0.03, 1, 0.975])\n",
    "fig.savefig(\"figures/contour_plots_nfw_gamma_{:.1f}.pdf\".format(gamma_nfw))"
   ]
  },
  {
   "cell_type": "code",
   "execution_count": null,
   "metadata": {
    "hidden": true
   },
   "outputs": [],
   "source": [
    "os.system(\"say 'Done with gamma NFW equals 0.5'\")"
   ]
  },
  {
   "cell_type": "markdown",
   "metadata": {},
   "source": [
    "# Exponential/tidally truncated profile"
   ]
  },
  {
   "cell_type": "code",
   "execution_count": 9,
   "metadata": {},
   "outputs": [],
   "source": [
    "dist = np.logspace(-3, 0, 9)\n",
    "r_s = np.logspace(-3, 1, 9)\n",
    "gamma_exp = np.array([0.28594, 0.450207, 0.577731, 0.689375, 0.794874,\n",
    "                      0.901285, 1.01681, 1.15728, 1.38515])\n",
    "dist_mg, r_s_mg, gamma_exp_mg = np.meshgrid(dist, r_s, gamma_exp)\n",
    "\n",
    "base_path_exp = 'data/exp_gamma_grid/'"
   ]
  },
  {
   "cell_type": "markdown",
   "metadata": {
    "heading_collapsed": true
   },
   "source": [
    "## Load results"
   ]
  },
  {
   "cell_type": "code",
   "execution_count": 3,
   "metadata": {
    "hidden": true
   },
   "outputs": [],
   "source": [
    "# for var in [\"dist\", \"r_s\"]:\n",
    "#     exec(var + \" = np.loadtxt('\" + base_path_exp + var + \".csv', delimiter=',')\")\n",
    "# dist_mg, r_s_mg = np.meshgrid(dist, r_s)\n",
    "\n",
    "# for var in [\"rho_s\", \"rho_rel\", \"lum\", \"dphi_de_g\", \"extent\", \"lw\",\n",
    "#             \"rho_s_fermi_ps\", \"dphi_de_g_ext_rel\"]:\n",
    "#     exec(var + \"_exp = np.loadtxt('\" + base_path_exp + var + \".csv', delimiter=',')\")"
   ]
  },
  {
   "cell_type": "markdown",
   "metadata": {},
   "source": [
    "## Recompute"
   ]
  },
  {
   "cell_type": "markdown",
   "metadata": {},
   "source": [
    "### $\\rho_s$"
   ]
  },
  {
   "cell_type": "code",
   "execution_count": 10,
   "metadata": {},
   "outputs": [
    {
     "name": "stderr",
     "output_type": "stream",
     "text": [
      "/Users/acoogan/.pyenv/versions/2.7.13/lib/python2.7/site-packages/scipy/integrate/quadpack.py:385: IntegrationWarning: The integral is probably divergent, or slowly convergent.\n",
      "  warnings.warn(msg, IntegrationWarning)\n",
      "/Users/acoogan/.pyenv/versions/2.7.13/lib/python2.7/site-packages/scipy/integrate/quadpack.py:385: IntegrationWarning: The algorithm does not converge.  Roundoff error is detected\n",
      "  in the extrapolation table.  It is assumed that the requested tolerance\n",
      "  cannot be achieved, and that the returned result (if full_output = 1) is \n",
      "  the best which can be obtained.\n",
      "  warnings.warn(msg, IntegrationWarning)\n",
      "finite_clump_vectorized.py:286: RuntimeWarning: invalid value encountered in sqrt\n",
      "  return np.sqrt(residual_iflux / (dm_iflux_near + dm_iflux_far))\n",
      "/Users/acoogan/.pyenv/versions/2.7.13/lib/python2.7/site-packages/scipy/integrate/quadpack.py:385: IntegrationWarning: The maximum number of subdivisions (50) has been achieved.\n",
      "  If increasing the limit yields no improvement it is advised to analyze \n",
      "  the integrand in order to determine the difficulties.  If the position of a \n",
      "  local difficulty can be determined (singularity, discontinuity) one will \n",
      "  probably gain from splitting up the interval and calling the integrator \n",
      "  on the subranges.  Perhaps a special-purpose integrator should be used.\n",
      "  warnings.warn(msg, IntegrationWarning)\n"
     ]
    }
   ],
   "source": [
    "rho_s_exp = rho_s_dampe(dist_mg, r_s_mg, gamma_exp_mg, \"exp\")"
   ]
  },
  {
   "cell_type": "markdown",
   "metadata": {},
   "source": [
    "### $\\mathcal{L}$"
   ]
  },
  {
   "cell_type": "code",
   "execution_count": 14,
   "metadata": {},
   "outputs": [],
   "source": [
    "lum_exp = luminosity(r_s_mg, rho_s_exp, gamma_exp_mg, \"exp\")"
   ]
  },
  {
   "cell_type": "markdown",
   "metadata": {},
   "source": [
    "## Save results"
   ]
  },
  {
   "cell_type": "code",
   "execution_count": 33,
   "metadata": {},
   "outputs": [],
   "source": [
    "for var in [\"dist\", \"r_s\", \"gamma_exp\"]:\n",
    "    np.savetxt(base_path_exp + var + \".csv\", eval(var), delimiter=',')\n",
    "\n",
    "for i, g in enumerate(gamma_exp):\n",
    "    rho_path = \"{:s}rho_s_{}.csv\".format(base_path_exp, g)\n",
    "    np.savetxt(rho_path, rho_s_exp[:, :, i])\n",
    "    lum_path = \"{:s}lum_{}.csv\".format(base_path_exp, g)\n",
    "    np.savetxt(lum_path, lum_exp[:, :, i])"
   ]
  }
 ],
 "metadata": {
  "kernelspec": {
   "display_name": "Python 2",
   "language": "python",
   "name": "python2"
  },
  "language_info": {
   "codemirror_mode": {
    "name": "ipython",
    "version": 2
   },
   "file_extension": ".py",
   "mimetype": "text/x-python",
   "name": "python",
   "nbconvert_exporter": "python",
   "pygments_lexer": "ipython2",
   "version": "2.7.13"
  }
 },
 "nbformat": 4,
 "nbformat_minor": 2
}
